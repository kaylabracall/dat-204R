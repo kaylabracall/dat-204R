{
 "cells": [
  {
   "cell_type": "markdown",
   "metadata": {},
   "source": [
    "# R Notation\n",
    "\n",
    "Pythonistas: I'm really sorry about this. No, it isn't my fault. I'm still sorry.\n",
    "\n",
    "The most common way to pull things out of dataframes is with square brackets. For dataframe `df` we can pull out the value from a specific cell at **row a, column b** with `df[a, b]` - pulling one single value from a cell isn't something we're going to do very often, but everything we're about to talk about makes much more sense once you understand that the **spot before the comma is for rows, and the spot after the comma is for columns.**\n",
    "\n",
    "We have several tools available for pulling items (or vectors!) out of dataframes:\n",
    "* Positive integers (the row/column corresponding to the integer), using \\[\\] notation\n",
    "* Negative integers (everything _except_ the row/column corresponding to the integer), using \\[\\] notation\n",
    "* Blank spaces (everything, all of it, in that dimension), using \\[\\] notation\n",
    "* Logical values (we're going to skip over this until it gets useful)\n",
    "* Names, via both \\$ notation and \\[\\] notation.\n",
    "\n",
    "First, let's remind ourselves how to pull in a dataframe. "
   ]
  },
  {
   "cell_type": "code",
   "execution_count": 1,
   "metadata": {},
   "outputs": [
    {
     "data": {
      "text/html": [
       "<table>\n",
       "<thead><tr><th scope=col>CLPID</th><th scope=col>Name</th><th scope=col>Year</th><th scope=col>Month</th><th scope=col>WifiSessions</th><th scope=col>WifiMinutes</th></tr></thead>\n",
       "<tbody>\n",
       "\t<tr><td>CLP01            </td><td>ALLEGHENY LIBRARY</td><td>2016             </td><td>1                </td><td>1037             </td><td>148513           </td></tr>\n",
       "\t<tr><td>CLP01            </td><td>ALLEGHENY LIBRARY</td><td>2016             </td><td>2                </td><td>1064             </td><td>150948           </td></tr>\n",
       "\t<tr><td>CLP01            </td><td>ALLEGHENY LIBRARY</td><td>2016             </td><td>3                </td><td> 949             </td><td>129484           </td></tr>\n",
       "\t<tr><td>CLP01            </td><td>ALLEGHENY LIBRARY</td><td>2016             </td><td>4                </td><td> 934             </td><td>136196           </td></tr>\n",
       "\t<tr><td>CLP01            </td><td>ALLEGHENY LIBRARY</td><td>2016             </td><td>5                </td><td>1018             </td><td>135793           </td></tr>\n",
       "\t<tr><td>CLP01            </td><td>ALLEGHENY LIBRARY</td><td>2016             </td><td>6                </td><td>1163             </td><td>169426           </td></tr>\n",
       "</tbody>\n",
       "</table>\n"
      ],
      "text/latex": [
       "\\begin{tabular}{r|llllll}\n",
       " CLPID & Name & Year & Month & WifiSessions & WifiMinutes\\\\\n",
       "\\hline\n",
       "\t CLP01             & ALLEGHENY LIBRARY & 2016              & 1                 & 1037              & 148513           \\\\\n",
       "\t CLP01             & ALLEGHENY LIBRARY & 2016              & 2                 & 1064              & 150948           \\\\\n",
       "\t CLP01             & ALLEGHENY LIBRARY & 2016              & 3                 &  949              & 129484           \\\\\n",
       "\t CLP01             & ALLEGHENY LIBRARY & 2016              & 4                 &  934              & 136196           \\\\\n",
       "\t CLP01             & ALLEGHENY LIBRARY & 2016              & 5                 & 1018              & 135793           \\\\\n",
       "\t CLP01             & ALLEGHENY LIBRARY & 2016              & 6                 & 1163              & 169426           \\\\\n",
       "\\end{tabular}\n"
      ],
      "text/markdown": [
       "\n",
       "| CLPID | Name | Year | Month | WifiSessions | WifiMinutes |\n",
       "|---|---|---|---|---|---|\n",
       "| CLP01             | ALLEGHENY LIBRARY | 2016              | 1                 | 1037              | 148513            |\n",
       "| CLP01             | ALLEGHENY LIBRARY | 2016              | 2                 | 1064              | 150948            |\n",
       "| CLP01             | ALLEGHENY LIBRARY | 2016              | 3                 |  949              | 129484            |\n",
       "| CLP01             | ALLEGHENY LIBRARY | 2016              | 4                 |  934              | 136196            |\n",
       "| CLP01             | ALLEGHENY LIBRARY | 2016              | 5                 | 1018              | 135793            |\n",
       "| CLP01             | ALLEGHENY LIBRARY | 2016              | 6                 | 1163              | 169426            |\n",
       "\n"
      ],
      "text/plain": [
       "  CLPID Name              Year Month WifiSessions WifiMinutes\n",
       "1 CLP01 ALLEGHENY LIBRARY 2016 1     1037         148513     \n",
       "2 CLP01 ALLEGHENY LIBRARY 2016 2     1064         150948     \n",
       "3 CLP01 ALLEGHENY LIBRARY 2016 3      949         129484     \n",
       "4 CLP01 ALLEGHENY LIBRARY 2016 4      934         136196     \n",
       "5 CLP01 ALLEGHENY LIBRARY 2016 5     1018         135793     \n",
       "6 CLP01 ALLEGHENY LIBRARY 2016 6     1163         169426     "
      ]
     },
     "metadata": {},
     "output_type": "display_data"
    }
   ],
   "source": [
    "clp_wifi <- read.csv(\"clp_wifi.csv\", stringsAsFactors=FALSE)\n",
    "head(clp_wifi)"
   ]
  },
  {
   "cell_type": "markdown",
   "metadata": {},
   "source": [
    "## Getting columns from a data frame\n",
    "\n",
    "### Numeric indexing to include certain columns\n",
    "\n",
    "If you know the position of the column(s) you want, you can get a column using numeric indexing with `df[ , numVec]`:"
   ]
  },
  {
   "cell_type": "code",
   "execution_count": 2,
   "metadata": {},
   "outputs": [
    {
     "data": {
      "text/html": [
       "<ol class=list-inline>\n",
       "\t<li>1</li>\n",
       "\t<li>2</li>\n",
       "\t<li>3</li>\n",
       "\t<li>4</li>\n",
       "\t<li>5</li>\n",
       "\t<li>6</li>\n",
       "</ol>\n"
      ],
      "text/latex": [
       "\\begin{enumerate*}\n",
       "\\item 1\n",
       "\\item 2\n",
       "\\item 3\n",
       "\\item 4\n",
       "\\item 5\n",
       "\\item 6\n",
       "\\end{enumerate*}\n"
      ],
      "text/markdown": [
       "1. 1\n",
       "2. 2\n",
       "3. 3\n",
       "4. 4\n",
       "5. 5\n",
       "6. 6\n",
       "\n",
       "\n"
      ],
      "text/plain": [
       "[1] 1 2 3 4 5 6"
      ]
     },
     "metadata": {},
     "output_type": "display_data"
    }
   ],
   "source": [
    "# column 4, with a reminder that we start counting at 1 not 0\n",
    "col4 <- clp_wifi[ , 4] # the space means \"all rows\"\n",
    "head(col4)"
   ]
  },
  {
   "cell_type": "code",
   "execution_count": 4,
   "metadata": {},
   "outputs": [
    {
     "data": {
      "text/html": [
       "<table>\n",
       "<thead><tr><th scope=col>WifiSessions</th><th scope=col>WifiMinutes</th></tr></thead>\n",
       "<tbody>\n",
       "\t<tr><td>1037  </td><td>148513</td></tr>\n",
       "\t<tr><td>1064  </td><td>150948</td></tr>\n",
       "\t<tr><td> 949  </td><td>129484</td></tr>\n",
       "\t<tr><td> 934  </td><td>136196</td></tr>\n",
       "\t<tr><td>1018  </td><td>135793</td></tr>\n",
       "\t<tr><td>1163  </td><td>169426</td></tr>\n",
       "</tbody>\n",
       "</table>\n"
      ],
      "text/latex": [
       "\\begin{tabular}{r|ll}\n",
       " WifiSessions & WifiMinutes\\\\\n",
       "\\hline\n",
       "\t 1037   & 148513\\\\\n",
       "\t 1064   & 150948\\\\\n",
       "\t  949   & 129484\\\\\n",
       "\t  934   & 136196\\\\\n",
       "\t 1018   & 135793\\\\\n",
       "\t 1163   & 169426\\\\\n",
       "\\end{tabular}\n"
      ],
      "text/markdown": [
       "\n",
       "| WifiSessions | WifiMinutes |\n",
       "|---|---|\n",
       "| 1037   | 148513 |\n",
       "| 1064   | 150948 |\n",
       "|  949   | 129484 |\n",
       "|  934   | 136196 |\n",
       "| 1018   | 135793 |\n",
       "| 1163   | 169426 |\n",
       "\n"
      ],
      "text/plain": [
       "  WifiSessions WifiMinutes\n",
       "1 1037         148513     \n",
       "2 1064         150948     \n",
       "3  949         129484     \n",
       "4  934         136196     \n",
       "5 1018         135793     \n",
       "6 1163         169426     "
      ]
     },
     "metadata": {},
     "output_type": "display_data"
    }
   ],
   "source": [
    "# columns 5 and 6\n",
    "col5_6 <- clp_wifi[ , 5:6]\n",
    "# same:\n",
    "# col5_6 <- clp_wifi[ , c(5, 6)]\n",
    "head(col5_6)"
   ]
  },
  {
   "cell_type": "markdown",
   "metadata": {},
   "source": [
    "### Numeric indexing to _exclude_ certain columns\n",
    "\n",
    "If you know the position of the column(s) you **don't want** you can also get that with numeric indexing, using `df[ , -numVec]`"
   ]
  },
  {
   "cell_type": "code",
   "execution_count": 5,
   "metadata": {},
   "outputs": [
    {
     "data": {
      "text/html": [
       "<table>\n",
       "<thead><tr><th scope=col>CLPID</th><th scope=col>Year</th><th scope=col>Month</th><th scope=col>WifiSessions</th><th scope=col>WifiMinutes</th></tr></thead>\n",
       "<tbody>\n",
       "\t<tr><td>CLP01 </td><td>2016  </td><td>1     </td><td>1037  </td><td>148513</td></tr>\n",
       "\t<tr><td>CLP01 </td><td>2016  </td><td>2     </td><td>1064  </td><td>150948</td></tr>\n",
       "\t<tr><td>CLP01 </td><td>2016  </td><td>3     </td><td> 949  </td><td>129484</td></tr>\n",
       "\t<tr><td>CLP01 </td><td>2016  </td><td>4     </td><td> 934  </td><td>136196</td></tr>\n",
       "\t<tr><td>CLP01 </td><td>2016  </td><td>5     </td><td>1018  </td><td>135793</td></tr>\n",
       "\t<tr><td>CLP01 </td><td>2016  </td><td>6     </td><td>1163  </td><td>169426</td></tr>\n",
       "</tbody>\n",
       "</table>\n"
      ],
      "text/latex": [
       "\\begin{tabular}{r|lllll}\n",
       " CLPID & Year & Month & WifiSessions & WifiMinutes\\\\\n",
       "\\hline\n",
       "\t CLP01  & 2016   & 1      & 1037   & 148513\\\\\n",
       "\t CLP01  & 2016   & 2      & 1064   & 150948\\\\\n",
       "\t CLP01  & 2016   & 3      &  949   & 129484\\\\\n",
       "\t CLP01  & 2016   & 4      &  934   & 136196\\\\\n",
       "\t CLP01  & 2016   & 5      & 1018   & 135793\\\\\n",
       "\t CLP01  & 2016   & 6      & 1163   & 169426\\\\\n",
       "\\end{tabular}\n"
      ],
      "text/markdown": [
       "\n",
       "| CLPID | Year | Month | WifiSessions | WifiMinutes |\n",
       "|---|---|---|---|---|\n",
       "| CLP01  | 2016   | 1      | 1037   | 148513 |\n",
       "| CLP01  | 2016   | 2      | 1064   | 150948 |\n",
       "| CLP01  | 2016   | 3      |  949   | 129484 |\n",
       "| CLP01  | 2016   | 4      |  934   | 136196 |\n",
       "| CLP01  | 2016   | 5      | 1018   | 135793 |\n",
       "| CLP01  | 2016   | 6      | 1163   | 169426 |\n",
       "\n"
      ],
      "text/plain": [
       "  CLPID Year Month WifiSessions WifiMinutes\n",
       "1 CLP01 2016 1     1037         148513     \n",
       "2 CLP01 2016 2     1064         150948     \n",
       "3 CLP01 2016 3      949         129484     \n",
       "4 CLP01 2016 4      934         136196     \n",
       "5 CLP01 2016 5     1018         135793     \n",
       "6 CLP01 2016 6     1163         169426     "
      ]
     },
     "metadata": {},
     "output_type": "display_data"
    }
   ],
   "source": [
    "# what if we don't want the name of the library?\n",
    "not_col_2 <- clp_wifi[ , -2]\n",
    "head(not_col_2)"
   ]
  },
  {
   "cell_type": "markdown",
   "metadata": {},
   "source": [
    "### Addressing columns by name\n",
    "\n",
    "OK, but these are data frames. Often&mdash;dare I say, _usually_&mdash;they will have named columns. We can make use of that. \n",
    "\n",
    "First, here's how you do this with brackets: `df[ , \"colName\"]` - yeah, you want those quotes, and yeah, you want that comma (what I did last week shouldn't have worked, properly speaking, oops)."
   ]
  },
  {
   "cell_type": "code",
   "execution_count": 16,
   "metadata": {},
   "outputs": [
    {
     "data": {
      "text/html": [
       "<ol class=list-inline>\n",
       "\t<li>1037</li>\n",
       "\t<li>1064</li>\n",
       "\t<li>949</li>\n",
       "\t<li>934</li>\n",
       "\t<li>1018</li>\n",
       "\t<li>1163</li>\n",
       "</ol>\n"
      ],
      "text/latex": [
       "\\begin{enumerate*}\n",
       "\\item 1037\n",
       "\\item 1064\n",
       "\\item 949\n",
       "\\item 934\n",
       "\\item 1018\n",
       "\\item 1163\n",
       "\\end{enumerate*}\n"
      ],
      "text/markdown": [
       "1. 1037\n",
       "2. 1064\n",
       "3. 949\n",
       "4. 934\n",
       "5. 1018\n",
       "6. 1163\n",
       "\n",
       "\n"
      ],
      "text/plain": [
       "[1] 1037 1064  949  934 1018 1163"
      ]
     },
     "metadata": {},
     "output_type": "display_data"
    },
    {
     "data": {
      "text/html": [
       "'integer'"
      ],
      "text/latex": [
       "'integer'"
      ],
      "text/markdown": [
       "'integer'"
      ],
      "text/plain": [
       "[1] \"integer\""
      ]
     },
     "metadata": {},
     "output_type": "display_data"
    }
   ],
   "source": [
    "# give us the number of wifi sessions!\n",
    "\n",
    "sessions <- clp_wifi[ , \"WifiSessions\"]\n",
    "head(sessions)\n",
    "class(sessions)"
   ]
  },
  {
   "cell_type": "code",
   "execution_count": 17,
   "metadata": {},
   "outputs": [
    {
     "data": {
      "text/html": [
       "<table>\n",
       "<thead><tr><th scope=col>WifiSessions</th><th scope=col>WifiMinutes</th></tr></thead>\n",
       "<tbody>\n",
       "\t<tr><td>1037  </td><td>148513</td></tr>\n",
       "\t<tr><td>1064  </td><td>150948</td></tr>\n",
       "\t<tr><td> 949  </td><td>129484</td></tr>\n",
       "\t<tr><td> 934  </td><td>136196</td></tr>\n",
       "\t<tr><td>1018  </td><td>135793</td></tr>\n",
       "\t<tr><td>1163  </td><td>169426</td></tr>\n",
       "</tbody>\n",
       "</table>\n"
      ],
      "text/latex": [
       "\\begin{tabular}{r|ll}\n",
       " WifiSessions & WifiMinutes\\\\\n",
       "\\hline\n",
       "\t 1037   & 148513\\\\\n",
       "\t 1064   & 150948\\\\\n",
       "\t  949   & 129484\\\\\n",
       "\t  934   & 136196\\\\\n",
       "\t 1018   & 135793\\\\\n",
       "\t 1163   & 169426\\\\\n",
       "\\end{tabular}\n"
      ],
      "text/markdown": [
       "\n",
       "| WifiSessions | WifiMinutes |\n",
       "|---|---|\n",
       "| 1037   | 148513 |\n",
       "| 1064   | 150948 |\n",
       "|  949   | 129484 |\n",
       "|  934   | 136196 |\n",
       "| 1018   | 135793 |\n",
       "| 1163   | 169426 |\n",
       "\n"
      ],
      "text/plain": [
       "  WifiSessions WifiMinutes\n",
       "1 1037         148513     \n",
       "2 1064         150948     \n",
       "3  949         129484     \n",
       "4  934         136196     \n",
       "5 1018         135793     \n",
       "6 1163         169426     "
      ]
     },
     "metadata": {},
     "output_type": "display_data"
    },
    {
     "data": {
      "text/html": [
       "'data.frame'"
      ],
      "text/latex": [
       "'data.frame'"
      ],
      "text/markdown": [
       "'data.frame'"
      ],
      "text/plain": [
       "[1] \"data.frame\""
      ]
     },
     "metadata": {},
     "output_type": "display_data"
    }
   ],
   "source": [
    "# give us both of the last two columns\n",
    "\n",
    "# note the vector notation!\n",
    "last_two_columns <- clp_wifi[ , c(\"WifiSessions\", \"WifiMinutes\")]\n",
    "head(last_two_columns)\n",
    "\n",
    "# OK, but also, note:\n",
    "class(last_two_columns)"
   ]
  },
  {
   "cell_type": "markdown",
   "metadata": {},
   "source": [
    "OK, but. Let's say that you only want one column, but you WANT it to be a data frame. (It could happen!) Easy enough:\n",
    "\n",
    "`df[ , \"colName\", drop = FALSE]`"
   ]
  },
  {
   "cell_type": "code",
   "execution_count": 34,
   "metadata": {},
   "outputs": [
    {
     "data": {
      "text/html": [
       "<table>\n",
       "<thead><tr><th scope=col>WifiSessions</th></tr></thead>\n",
       "<tbody>\n",
       "\t<tr><td>1037</td></tr>\n",
       "\t<tr><td>1064</td></tr>\n",
       "\t<tr><td> 949</td></tr>\n",
       "\t<tr><td> 934</td></tr>\n",
       "\t<tr><td>1018</td></tr>\n",
       "\t<tr><td>1163</td></tr>\n",
       "</tbody>\n",
       "</table>\n"
      ],
      "text/latex": [
       "\\begin{tabular}{r|l}\n",
       " WifiSessions\\\\\n",
       "\\hline\n",
       "\t 1037\\\\\n",
       "\t 1064\\\\\n",
       "\t  949\\\\\n",
       "\t  934\\\\\n",
       "\t 1018\\\\\n",
       "\t 1163\\\\\n",
       "\\end{tabular}\n"
      ],
      "text/markdown": [
       "\n",
       "| WifiSessions |\n",
       "|---|\n",
       "| 1037 |\n",
       "| 1064 |\n",
       "|  949 |\n",
       "|  934 |\n",
       "| 1018 |\n",
       "| 1163 |\n",
       "\n"
      ],
      "text/plain": [
       "  WifiSessions\n",
       "1 1037        \n",
       "2 1064        \n",
       "3  949        \n",
       "4  934        \n",
       "5 1018        \n",
       "6 1163        "
      ]
     },
     "metadata": {},
     "output_type": "display_data"
    },
    {
     "data": {
      "text/html": [
       "'data.frame'"
      ],
      "text/latex": [
       "'data.frame'"
      ],
      "text/markdown": [
       "'data.frame'"
      ],
      "text/plain": [
       "[1] \"data.frame\""
      ]
     },
     "metadata": {},
     "output_type": "display_data"
    }
   ],
   "source": [
    "sessions_df <- clp_wifi[ , \"WifiSessions\", drop=FALSE]\n",
    "head(sessions_df)\n",
    "class(sessions_df)"
   ]
  },
  {
   "cell_type": "markdown",
   "metadata": {},
   "source": [
    "OK, so, that's how we get a column with brackets. Great! As you already know (but I'm going to tell you again anyway), there's another option available for us to pull one column out of a dataframe: `df$colName` - note that there are no quotation marks there"
   ]
  },
  {
   "cell_type": "code",
   "execution_count": 18,
   "metadata": {},
   "outputs": [
    {
     "data": {
      "text/html": [
       "<ol class=list-inline>\n",
       "\t<li>148513</li>\n",
       "\t<li>150948</li>\n",
       "\t<li>129484</li>\n",
       "\t<li>136196</li>\n",
       "\t<li>135793</li>\n",
       "\t<li>169426</li>\n",
       "</ol>\n"
      ],
      "text/latex": [
       "\\begin{enumerate*}\n",
       "\\item 148513\n",
       "\\item 150948\n",
       "\\item 129484\n",
       "\\item 136196\n",
       "\\item 135793\n",
       "\\item 169426\n",
       "\\end{enumerate*}\n"
      ],
      "text/markdown": [
       "1. 148513\n",
       "2. 150948\n",
       "3. 129484\n",
       "4. 136196\n",
       "5. 135793\n",
       "6. 169426\n",
       "\n",
       "\n"
      ],
      "text/plain": [
       "[1] 148513 150948 129484 136196 135793 169426"
      ]
     },
     "metadata": {},
     "output_type": "display_data"
    },
    {
     "data": {
      "text/html": [
       "'integer'"
      ],
      "text/latex": [
       "'integer'"
      ],
      "text/markdown": [
       "'integer'"
      ],
      "text/plain": [
       "[1] \"integer\""
      ]
     },
     "metadata": {},
     "output_type": "display_data"
    }
   ],
   "source": [
    "# OK, now let's pull out just the WifiMinutes:\n",
    "\n",
    "mins <- clp_wifi$WifiMinutes\n",
    "head(mins)\n",
    "class(mins)  "
   ]
  },
  {
   "cell_type": "markdown",
   "metadata": {},
   "source": [
    "### Doing things with columns once we've retrieved them\n",
    "\n",
    "What's the average number of minutes per wifi session at a library in Pittsburgh?\n",
    "\n",
    "Which libraries are in this data set?\n",
    "\n",
    "What years does it cover?\n",
    "\n",
    "All questions we can answer with just a couple of lines of code!"
   ]
  },
  {
   "cell_type": "code",
   "execution_count": 27,
   "metadata": {},
   "outputs": [
    {
     "data": {
      "text/html": [
       "132.611608166479"
      ],
      "text/latex": [
       "132.611608166479"
      ],
      "text/markdown": [
       "132.611608166479"
      ],
      "text/plain": [
       "[1] 132.6116"
      ]
     },
     "metadata": {},
     "output_type": "display_data"
    }
   ],
   "source": [
    "# What's the average number of minutes per wifi session at a library in Pittsburgh?\n",
    "\n",
    "# we pulled out the vector of minutes above! \n",
    "# mins <- clp_wifi$WifiMinutes\n",
    "\n",
    "# also, the vector of wifi sessions:\n",
    "# sessions <- clp_wifi[ , \"WifiSessions\"]\n",
    "\n",
    "# bit naive, assumes we have data in every row,\n",
    "# but it's a decent approximation probably\n",
    "avg <- sum(mins)/sum(sessions)\n",
    "avg"
   ]
  },
  {
   "cell_type": "code",
   "execution_count": 30,
   "metadata": {},
   "outputs": [
    {
     "data": {
      "text/html": [
       "<ol class=list-inline>\n",
       "\t<li>'ALLEGHENY LIBRARY'</li>\n",
       "\t<li>'BEECHVIEW LIBRARY'</li>\n",
       "\t<li>'BROOKLINE LIBRARY'</li>\n",
       "\t<li>'CARRICK LIBRARY'</li>\n",
       "\t<li>'DOWNTOWN &amp; BUSINESS LIBRARY'</li>\n",
       "\t<li>'EAST LIBERTY LIBRARY'</li>\n",
       "\t<li>'HAZELWOOD LIBRARY'</li>\n",
       "\t<li>'HILL DISTRICT LIBRARY'</li>\n",
       "\t<li>'HOMEWOOD LIBRARY'</li>\n",
       "\t<li>'KNOXVILLE LIBRARY'</li>\n",
       "\t<li>'LAWRENCEVILLE LIBRARY'</li>\n",
       "\t<li>'LIBRARY FOR THE BLIND &amp; PHYSICALLY HANDICAPPED'</li>\n",
       "\t<li>'MAIN (OAKLAND) LIBRARY'</li>\n",
       "\t<li>'MOUNT WASHINGTON LIBRARY'</li>\n",
       "\t<li>'SHERADEN LIBRARY'</li>\n",
       "\t<li>'SOUTH SIDE LIBRARY'</li>\n",
       "\t<li>'SQUIRREL HILL LIBRARY'</li>\n",
       "\t<li>'WEST END LIBRARY'</li>\n",
       "\t<li>'WOODS RUN LIBRARY'</li>\n",
       "</ol>\n"
      ],
      "text/latex": [
       "\\begin{enumerate*}\n",
       "\\item 'ALLEGHENY LIBRARY'\n",
       "\\item 'BEECHVIEW LIBRARY'\n",
       "\\item 'BROOKLINE LIBRARY'\n",
       "\\item 'CARRICK LIBRARY'\n",
       "\\item 'DOWNTOWN \\& BUSINESS LIBRARY'\n",
       "\\item 'EAST LIBERTY LIBRARY'\n",
       "\\item 'HAZELWOOD LIBRARY'\n",
       "\\item 'HILL DISTRICT LIBRARY'\n",
       "\\item 'HOMEWOOD LIBRARY'\n",
       "\\item 'KNOXVILLE LIBRARY'\n",
       "\\item 'LAWRENCEVILLE LIBRARY'\n",
       "\\item 'LIBRARY FOR THE BLIND \\& PHYSICALLY HANDICAPPED'\n",
       "\\item 'MAIN (OAKLAND) LIBRARY'\n",
       "\\item 'MOUNT WASHINGTON LIBRARY'\n",
       "\\item 'SHERADEN LIBRARY'\n",
       "\\item 'SOUTH SIDE LIBRARY'\n",
       "\\item 'SQUIRREL HILL LIBRARY'\n",
       "\\item 'WEST END LIBRARY'\n",
       "\\item 'WOODS RUN LIBRARY'\n",
       "\\end{enumerate*}\n"
      ],
      "text/markdown": [
       "1. 'ALLEGHENY LIBRARY'\n",
       "2. 'BEECHVIEW LIBRARY'\n",
       "3. 'BROOKLINE LIBRARY'\n",
       "4. 'CARRICK LIBRARY'\n",
       "5. 'DOWNTOWN &amp; BUSINESS LIBRARY'\n",
       "6. 'EAST LIBERTY LIBRARY'\n",
       "7. 'HAZELWOOD LIBRARY'\n",
       "8. 'HILL DISTRICT LIBRARY'\n",
       "9. 'HOMEWOOD LIBRARY'\n",
       "10. 'KNOXVILLE LIBRARY'\n",
       "11. 'LAWRENCEVILLE LIBRARY'\n",
       "12. 'LIBRARY FOR THE BLIND &amp; PHYSICALLY HANDICAPPED'\n",
       "13. 'MAIN (OAKLAND) LIBRARY'\n",
       "14. 'MOUNT WASHINGTON LIBRARY'\n",
       "15. 'SHERADEN LIBRARY'\n",
       "16. 'SOUTH SIDE LIBRARY'\n",
       "17. 'SQUIRREL HILL LIBRARY'\n",
       "18. 'WEST END LIBRARY'\n",
       "19. 'WOODS RUN LIBRARY'\n",
       "\n",
       "\n"
      ],
      "text/plain": [
       " [1] \"ALLEGHENY LIBRARY\"                             \n",
       " [2] \"BEECHVIEW LIBRARY\"                             \n",
       " [3] \"BROOKLINE LIBRARY\"                             \n",
       " [4] \"CARRICK LIBRARY\"                               \n",
       " [5] \"DOWNTOWN & BUSINESS LIBRARY\"                   \n",
       " [6] \"EAST LIBERTY LIBRARY\"                          \n",
       " [7] \"HAZELWOOD LIBRARY\"                             \n",
       " [8] \"HILL DISTRICT LIBRARY\"                         \n",
       " [9] \"HOMEWOOD LIBRARY\"                              \n",
       "[10] \"KNOXVILLE LIBRARY\"                             \n",
       "[11] \"LAWRENCEVILLE LIBRARY\"                         \n",
       "[12] \"LIBRARY FOR THE BLIND & PHYSICALLY HANDICAPPED\"\n",
       "[13] \"MAIN (OAKLAND) LIBRARY\"                        \n",
       "[14] \"MOUNT WASHINGTON LIBRARY\"                      \n",
       "[15] \"SHERADEN LIBRARY\"                              \n",
       "[16] \"SOUTH SIDE LIBRARY\"                            \n",
       "[17] \"SQUIRREL HILL LIBRARY\"                         \n",
       "[18] \"WEST END LIBRARY\"                              \n",
       "[19] \"WOODS RUN LIBRARY\"                             "
      ]
     },
     "metadata": {},
     "output_type": "display_data"
    },
    {
     "data": {
      "text/html": [
       "19"
      ],
      "text/latex": [
       "19"
      ],
      "text/markdown": [
       "19"
      ],
      "text/plain": [
       "[1] 19"
      ]
     },
     "metadata": {},
     "output_type": "display_data"
    }
   ],
   "source": [
    "# Which libraries are in this data set?\n",
    "# (Bonus) How many are there?\n",
    "\n",
    "lib_names <- unique(clp_wifi$Name)\n",
    "lib_names\n",
    "length(lib_names)"
   ]
  },
  {
   "cell_type": "code",
   "execution_count": 31,
   "metadata": {},
   "outputs": [
    {
     "data": {
      "text/html": [
       "<ol class=list-inline>\n",
       "\t<li>2016</li>\n",
       "\t<li>2017</li>\n",
       "\t<li>2018</li>\n",
       "</ol>\n"
      ],
      "text/latex": [
       "\\begin{enumerate*}\n",
       "\\item 2016\n",
       "\\item 2017\n",
       "\\item 2018\n",
       "\\end{enumerate*}\n"
      ],
      "text/markdown": [
       "1. 2016\n",
       "2. 2017\n",
       "3. 2018\n",
       "\n",
       "\n"
      ],
      "text/plain": [
       "[1] 2016 2017 2018"
      ]
     },
     "metadata": {},
     "output_type": "display_data"
    }
   ],
   "source": [
    "# Which years does this data set cover?\n",
    "\n",
    "#same trick, actually\n",
    "unique(clp_wifi$Year)"
   ]
  },
  {
   "cell_type": "markdown",
   "metadata": {},
   "source": [
    "## Getting rows from data frames\n",
    "\n",
    "A row corresponds (usually, nearly always) to a specific observation. Sometimes you're going to want to be able to pull out one row (or a set of rows) to examine what's happening in them. \n",
    "\n",
    "### By position with numeric indexing\n",
    "\n",
    "Unsurprisingly, it's just like above, only you put your number in the first spot instead of the second: `df[numVec, ]` - again, the space in the column spot tells R \"I want all the columns in this row\""
   ]
  },
  {
   "cell_type": "code",
   "execution_count": 33,
   "metadata": {},
   "outputs": [
    {
     "data": {
      "text/html": [
       "<table>\n",
       "<thead><tr><th scope=col>CLPID</th><th scope=col>Name</th><th scope=col>Year</th><th scope=col>Month</th><th scope=col>WifiSessions</th><th scope=col>WifiMinutes</th></tr></thead>\n",
       "<tbody>\n",
       "\t<tr><td>CLP01            </td><td>ALLEGHENY LIBRARY</td><td>2016             </td><td>1                </td><td>1037             </td><td>148513           </td></tr>\n",
       "</tbody>\n",
       "</table>\n"
      ],
      "text/latex": [
       "\\begin{tabular}{r|llllll}\n",
       " CLPID & Name & Year & Month & WifiSessions & WifiMinutes\\\\\n",
       "\\hline\n",
       "\t CLP01             & ALLEGHENY LIBRARY & 2016              & 1                 & 1037              & 148513           \\\\\n",
       "\\end{tabular}\n"
      ],
      "text/markdown": [
       "\n",
       "| CLPID | Name | Year | Month | WifiSessions | WifiMinutes |\n",
       "|---|---|---|---|---|---|\n",
       "| CLP01             | ALLEGHENY LIBRARY | 2016              | 1                 | 1037              | 148513            |\n",
       "\n"
      ],
      "text/plain": [
       "  CLPID Name              Year Month WifiSessions WifiMinutes\n",
       "1 CLP01 ALLEGHENY LIBRARY 2016 1     1037         148513     "
      ]
     },
     "metadata": {},
     "output_type": "display_data"
    },
    {
     "data": {
      "text/html": [
       "'data.frame'"
      ],
      "text/latex": [
       "'data.frame'"
      ],
      "text/markdown": [
       "'data.frame'"
      ],
      "text/plain": [
       "[1] \"data.frame\""
      ]
     },
     "metadata": {},
     "output_type": "display_data"
    }
   ],
   "source": [
    "row1 <- clp_wifi[1, ]\n",
    "row1\n",
    "class(row1)"
   ]
  },
  {
   "cell_type": "markdown",
   "metadata": {},
   "source": [
    "It makes a certain amount of sense that we don't have a vector, since data types will vary across columns in a data frame, and a single vector can't contain multiple data types. \n",
    "\n",
    "It means nothing changes when we grab multiple rows:"
   ]
  },
  {
   "cell_type": "code",
   "execution_count": 35,
   "metadata": {},
   "outputs": [
    {
     "data": {
      "text/html": [
       "<table>\n",
       "<thead><tr><th scope=col>CLPID</th><th scope=col>Name</th><th scope=col>Year</th><th scope=col>Month</th><th scope=col>WifiSessions</th><th scope=col>WifiMinutes</th></tr></thead>\n",
       "<tbody>\n",
       "\t<tr><td>CLP01            </td><td>ALLEGHENY LIBRARY</td><td>2016             </td><td> 1               </td><td>1037             </td><td>148513           </td></tr>\n",
       "\t<tr><td>CLP01            </td><td>ALLEGHENY LIBRARY</td><td>2016             </td><td> 2               </td><td>1064             </td><td>150948           </td></tr>\n",
       "\t<tr><td>CLP01            </td><td>ALLEGHENY LIBRARY</td><td>2016             </td><td> 3               </td><td> 949             </td><td>129484           </td></tr>\n",
       "\t<tr><td>CLP01            </td><td>ALLEGHENY LIBRARY</td><td>2016             </td><td> 4               </td><td> 934             </td><td>136196           </td></tr>\n",
       "\t<tr><td>CLP01            </td><td>ALLEGHENY LIBRARY</td><td>2016             </td><td> 5               </td><td>1018             </td><td>135793           </td></tr>\n",
       "\t<tr><td>CLP01            </td><td>ALLEGHENY LIBRARY</td><td>2016             </td><td> 6               </td><td>1163             </td><td>169426           </td></tr>\n",
       "\t<tr><td>CLP01            </td><td>ALLEGHENY LIBRARY</td><td>2016             </td><td> 7               </td><td>1352             </td><td>208802           </td></tr>\n",
       "\t<tr><td>CLP01            </td><td>ALLEGHENY LIBRARY</td><td>2016             </td><td> 8               </td><td>1436             </td><td>219842           </td></tr>\n",
       "\t<tr><td>CLP01            </td><td>ALLEGHENY LIBRARY</td><td>2016             </td><td> 9               </td><td>1222             </td><td>180409           </td></tr>\n",
       "\t<tr><td>CLP01            </td><td>ALLEGHENY LIBRARY</td><td>2016             </td><td>10               </td><td>1086             </td><td>156120           </td></tr>\n",
       "</tbody>\n",
       "</table>\n"
      ],
      "text/latex": [
       "\\begin{tabular}{r|llllll}\n",
       " CLPID & Name & Year & Month & WifiSessions & WifiMinutes\\\\\n",
       "\\hline\n",
       "\t CLP01             & ALLEGHENY LIBRARY & 2016              &  1                & 1037              & 148513           \\\\\n",
       "\t CLP01             & ALLEGHENY LIBRARY & 2016              &  2                & 1064              & 150948           \\\\\n",
       "\t CLP01             & ALLEGHENY LIBRARY & 2016              &  3                &  949              & 129484           \\\\\n",
       "\t CLP01             & ALLEGHENY LIBRARY & 2016              &  4                &  934              & 136196           \\\\\n",
       "\t CLP01             & ALLEGHENY LIBRARY & 2016              &  5                & 1018              & 135793           \\\\\n",
       "\t CLP01             & ALLEGHENY LIBRARY & 2016              &  6                & 1163              & 169426           \\\\\n",
       "\t CLP01             & ALLEGHENY LIBRARY & 2016              &  7                & 1352              & 208802           \\\\\n",
       "\t CLP01             & ALLEGHENY LIBRARY & 2016              &  8                & 1436              & 219842           \\\\\n",
       "\t CLP01             & ALLEGHENY LIBRARY & 2016              &  9                & 1222              & 180409           \\\\\n",
       "\t CLP01             & ALLEGHENY LIBRARY & 2016              & 10                & 1086              & 156120           \\\\\n",
       "\\end{tabular}\n"
      ],
      "text/markdown": [
       "\n",
       "| CLPID | Name | Year | Month | WifiSessions | WifiMinutes |\n",
       "|---|---|---|---|---|---|\n",
       "| CLP01             | ALLEGHENY LIBRARY | 2016              |  1                | 1037              | 148513            |\n",
       "| CLP01             | ALLEGHENY LIBRARY | 2016              |  2                | 1064              | 150948            |\n",
       "| CLP01             | ALLEGHENY LIBRARY | 2016              |  3                |  949              | 129484            |\n",
       "| CLP01             | ALLEGHENY LIBRARY | 2016              |  4                |  934              | 136196            |\n",
       "| CLP01             | ALLEGHENY LIBRARY | 2016              |  5                | 1018              | 135793            |\n",
       "| CLP01             | ALLEGHENY LIBRARY | 2016              |  6                | 1163              | 169426            |\n",
       "| CLP01             | ALLEGHENY LIBRARY | 2016              |  7                | 1352              | 208802            |\n",
       "| CLP01             | ALLEGHENY LIBRARY | 2016              |  8                | 1436              | 219842            |\n",
       "| CLP01             | ALLEGHENY LIBRARY | 2016              |  9                | 1222              | 180409            |\n",
       "| CLP01             | ALLEGHENY LIBRARY | 2016              | 10                | 1086              | 156120            |\n",
       "\n"
      ],
      "text/plain": [
       "   CLPID Name              Year Month WifiSessions WifiMinutes\n",
       "1  CLP01 ALLEGHENY LIBRARY 2016  1    1037         148513     \n",
       "2  CLP01 ALLEGHENY LIBRARY 2016  2    1064         150948     \n",
       "3  CLP01 ALLEGHENY LIBRARY 2016  3     949         129484     \n",
       "4  CLP01 ALLEGHENY LIBRARY 2016  4     934         136196     \n",
       "5  CLP01 ALLEGHENY LIBRARY 2016  5    1018         135793     \n",
       "6  CLP01 ALLEGHENY LIBRARY 2016  6    1163         169426     \n",
       "7  CLP01 ALLEGHENY LIBRARY 2016  7    1352         208802     \n",
       "8  CLP01 ALLEGHENY LIBRARY 2016  8    1436         219842     \n",
       "9  CLP01 ALLEGHENY LIBRARY 2016  9    1222         180409     \n",
       "10 CLP01 ALLEGHENY LIBRARY 2016 10    1086         156120     "
      ]
     },
     "metadata": {},
     "output_type": "display_data"
    }
   ],
   "source": [
    "first_10 <- clp_wifi[1:10, ]\n",
    "first_10"
   ]
  },
  {
   "cell_type": "markdown",
   "metadata": {},
   "source": [
    "### Leaving out rows with negative indices\n",
    "\n",
    "Again, no surprises here; it works just like with columns, except we always get a data frame."
   ]
  },
  {
   "cell_type": "code",
   "execution_count": 37,
   "metadata": {},
   "outputs": [
    {
     "data": {
      "text/html": [
       "<table>\n",
       "<thead><tr><th></th><th scope=col>CLPID</th><th scope=col>Name</th><th scope=col>Year</th><th scope=col>Month</th><th scope=col>WifiSessions</th><th scope=col>WifiMinutes</th></tr></thead>\n",
       "<tbody>\n",
       "\t<tr><th scope=row>11</th><td>CLP01            </td><td>ALLEGHENY LIBRARY</td><td>2016             </td><td>11               </td><td>1038             </td><td>141003           </td></tr>\n",
       "\t<tr><th scope=row>12</th><td>CLP01            </td><td>ALLEGHENY LIBRARY</td><td>2016             </td><td>12               </td><td> 925             </td><td>140230           </td></tr>\n",
       "\t<tr><th scope=row>13</th><td>CLP01            </td><td>ALLEGHENY LIBRARY</td><td>2017             </td><td> 1               </td><td>1070             </td><td>167159           </td></tr>\n",
       "\t<tr><th scope=row>14</th><td>CLP01            </td><td>ALLEGHENY LIBRARY</td><td>2017             </td><td> 2               </td><td>1029             </td><td>148976           </td></tr>\n",
       "\t<tr><th scope=row>15</th><td>CLP01            </td><td>ALLEGHENY LIBRARY</td><td>2017             </td><td> 3               </td><td>1400             </td><td>118952           </td></tr>\n",
       "\t<tr><th scope=row>16</th><td>CLP01            </td><td>ALLEGHENY LIBRARY</td><td>2017             </td><td> 4               </td><td>1725             </td><td>155280           </td></tr>\n",
       "</tbody>\n",
       "</table>\n"
      ],
      "text/latex": [
       "\\begin{tabular}{r|llllll}\n",
       "  & CLPID & Name & Year & Month & WifiSessions & WifiMinutes\\\\\n",
       "\\hline\n",
       "\t11 & CLP01             & ALLEGHENY LIBRARY & 2016              & 11                & 1038              & 141003           \\\\\n",
       "\t12 & CLP01             & ALLEGHENY LIBRARY & 2016              & 12                &  925              & 140230           \\\\\n",
       "\t13 & CLP01             & ALLEGHENY LIBRARY & 2017              &  1                & 1070              & 167159           \\\\\n",
       "\t14 & CLP01             & ALLEGHENY LIBRARY & 2017              &  2                & 1029              & 148976           \\\\\n",
       "\t15 & CLP01             & ALLEGHENY LIBRARY & 2017              &  3                & 1400              & 118952           \\\\\n",
       "\t16 & CLP01             & ALLEGHENY LIBRARY & 2017              &  4                & 1725              & 155280           \\\\\n",
       "\\end{tabular}\n"
      ],
      "text/markdown": [
       "\n",
       "| <!--/--> | CLPID | Name | Year | Month | WifiSessions | WifiMinutes |\n",
       "|---|---|---|---|---|---|---|\n",
       "| 11 | CLP01             | ALLEGHENY LIBRARY | 2016              | 11                | 1038              | 141003            |\n",
       "| 12 | CLP01             | ALLEGHENY LIBRARY | 2016              | 12                |  925              | 140230            |\n",
       "| 13 | CLP01             | ALLEGHENY LIBRARY | 2017              |  1                | 1070              | 167159            |\n",
       "| 14 | CLP01             | ALLEGHENY LIBRARY | 2017              |  2                | 1029              | 148976            |\n",
       "| 15 | CLP01             | ALLEGHENY LIBRARY | 2017              |  3                | 1400              | 118952            |\n",
       "| 16 | CLP01             | ALLEGHENY LIBRARY | 2017              |  4                | 1725              | 155280            |\n",
       "\n"
      ],
      "text/plain": [
       "   CLPID Name              Year Month WifiSessions WifiMinutes\n",
       "11 CLP01 ALLEGHENY LIBRARY 2016 11    1038         141003     \n",
       "12 CLP01 ALLEGHENY LIBRARY 2016 12     925         140230     \n",
       "13 CLP01 ALLEGHENY LIBRARY 2017  1    1070         167159     \n",
       "14 CLP01 ALLEGHENY LIBRARY 2017  2    1029         148976     \n",
       "15 CLP01 ALLEGHENY LIBRARY 2017  3    1400         118952     \n",
       "16 CLP01 ALLEGHENY LIBRARY 2017  4    1725         155280     "
      ]
     },
     "metadata": {},
     "output_type": "display_data"
    }
   ],
   "source": [
    "all_but_first_10 <- clp_wifi[-(1:10), ]\n",
    "head(all_but_first_10)"
   ]
  },
  {
   "cell_type": "markdown",
   "metadata": {},
   "source": [
    "### Getting rows by name \n",
    "\n",
    "This isn't something you'll necessarily do every day, but some datasets do have named rows. I'd feel remiss if I left it out.\n",
    "\n",
    "The format is unsurprising: `df[\"rowName\", ]` or `df[c(\"rowName1\", \"rowName2\", ...), ]`\n",
    "\n",
    "Let's give our dataframe some row names. \n",
    "\n",
    "#### Slight detour: for loops in R\n",
    "\n",
    "What if I also show you how to write a for loop in R, while we're at it?\n",
    "\n",
    "General format of a for loop in R:\n",
    "```R\n",
    "for (iterVar in numVec) {\n",
    "  # do something\n",
    "}\n",
    "```"
   ]
  },
  {
   "cell_type": "code",
   "execution_count": 56,
   "metadata": {
    "scrolled": true
   },
   "outputs": [
    {
     "data": {
      "text/html": [
       "<table>\n",
       "<thead><tr><th></th><th scope=col>CLPID</th><th scope=col>Name</th><th scope=col>Year</th><th scope=col>Month</th><th scope=col>WifiSessions</th><th scope=col>WifiMinutes</th></tr></thead>\n",
       "<tbody>\n",
       "\t<tr><th scope=row>2016_01_CLP01</th><td>CLP01            </td><td>ALLEGHENY LIBRARY</td><td>2016             </td><td>1                </td><td>1037             </td><td>148513           </td></tr>\n",
       "\t<tr><th scope=row>2016_02_CLP01</th><td>CLP01            </td><td>ALLEGHENY LIBRARY</td><td>2016             </td><td>2                </td><td>1064             </td><td>150948           </td></tr>\n",
       "\t<tr><th scope=row>2016_03_CLP01</th><td>CLP01            </td><td>ALLEGHENY LIBRARY</td><td>2016             </td><td>3                </td><td> 949             </td><td>129484           </td></tr>\n",
       "\t<tr><th scope=row>2016_04_CLP01</th><td>CLP01            </td><td>ALLEGHENY LIBRARY</td><td>2016             </td><td>4                </td><td> 934             </td><td>136196           </td></tr>\n",
       "\t<tr><th scope=row>2016_05_CLP01</th><td>CLP01            </td><td>ALLEGHENY LIBRARY</td><td>2016             </td><td>5                </td><td>1018             </td><td>135793           </td></tr>\n",
       "\t<tr><th scope=row>2016_06_CLP01</th><td>CLP01            </td><td>ALLEGHENY LIBRARY</td><td>2016             </td><td>6                </td><td>1163             </td><td>169426           </td></tr>\n",
       "</tbody>\n",
       "</table>\n"
      ],
      "text/latex": [
       "\\begin{tabular}{r|llllll}\n",
       "  & CLPID & Name & Year & Month & WifiSessions & WifiMinutes\\\\\n",
       "\\hline\n",
       "\t2016\\_01\\_CLP01 & CLP01             & ALLEGHENY LIBRARY & 2016              & 1                 & 1037              & 148513           \\\\\n",
       "\t2016\\_02\\_CLP01 & CLP01             & ALLEGHENY LIBRARY & 2016              & 2                 & 1064              & 150948           \\\\\n",
       "\t2016\\_03\\_CLP01 & CLP01             & ALLEGHENY LIBRARY & 2016              & 3                 &  949              & 129484           \\\\\n",
       "\t2016\\_04\\_CLP01 & CLP01             & ALLEGHENY LIBRARY & 2016              & 4                 &  934              & 136196           \\\\\n",
       "\t2016\\_05\\_CLP01 & CLP01             & ALLEGHENY LIBRARY & 2016              & 5                 & 1018              & 135793           \\\\\n",
       "\t2016\\_06\\_CLP01 & CLP01             & ALLEGHENY LIBRARY & 2016              & 6                 & 1163              & 169426           \\\\\n",
       "\\end{tabular}\n"
      ],
      "text/markdown": [
       "\n",
       "| <!--/--> | CLPID | Name | Year | Month | WifiSessions | WifiMinutes |\n",
       "|---|---|---|---|---|---|---|\n",
       "| 2016_01_CLP01 | CLP01             | ALLEGHENY LIBRARY | 2016              | 1                 | 1037              | 148513            |\n",
       "| 2016_02_CLP01 | CLP01             | ALLEGHENY LIBRARY | 2016              | 2                 | 1064              | 150948            |\n",
       "| 2016_03_CLP01 | CLP01             | ALLEGHENY LIBRARY | 2016              | 3                 |  949              | 129484            |\n",
       "| 2016_04_CLP01 | CLP01             | ALLEGHENY LIBRARY | 2016              | 4                 |  934              | 136196            |\n",
       "| 2016_05_CLP01 | CLP01             | ALLEGHENY LIBRARY | 2016              | 5                 | 1018              | 135793            |\n",
       "| 2016_06_CLP01 | CLP01             | ALLEGHENY LIBRARY | 2016              | 6                 | 1163              | 169426            |\n",
       "\n"
      ],
      "text/plain": [
       "              CLPID Name              Year Month WifiSessions WifiMinutes\n",
       "2016_01_CLP01 CLP01 ALLEGHENY LIBRARY 2016 1     1037         148513     \n",
       "2016_02_CLP01 CLP01 ALLEGHENY LIBRARY 2016 2     1064         150948     \n",
       "2016_03_CLP01 CLP01 ALLEGHENY LIBRARY 2016 3      949         129484     \n",
       "2016_04_CLP01 CLP01 ALLEGHENY LIBRARY 2016 4      934         136196     \n",
       "2016_05_CLP01 CLP01 ALLEGHENY LIBRARY 2016 5     1018         135793     \n",
       "2016_06_CLP01 CLP01 ALLEGHENY LIBRARY 2016 6     1163         169426     "
      ]
     },
     "metadata": {},
     "output_type": "display_data"
    }
   ],
   "source": [
    "# I want my names to take the form Year_Month_CLPID\n",
    "\n",
    "# we start with an empty vector\n",
    "ids <- vector()\n",
    "\n",
    "# we're going to loop through each row of the frame\n",
    "for (i in 1:length(clp_wifi$Month)) {\n",
    "    # the row name will be a string, so we need our numerics as characters\n",
    "    year <- as.character(clp_wifi$Year[i])\n",
    "    month <- as.character(clp_wifi$Month[i])\n",
    "    # I want all my names to be the same length, so I preappend zeros as needed\n",
    "    if (clp_wifi$Month[i] < 10) {\n",
    "        month <- paste(\"0\", month, sep = \"\")\n",
    "    }\n",
    "    # combining the strings with underscores between them\n",
    "    id <- paste(year, month, clp_wifi$CLPID[i], sep = \"_\")\n",
    "    \n",
    "    # and then we append each new id onto the vector of IDs\n",
    "    ids <- c(ids, id)\n",
    "}\n",
    "\n",
    "# having my vector of row names, I now need to add it to my dataframe\n",
    "row.names(clp_wifi) <- ids\n",
    "head(clp_wifi)"
   ]
  },
  {
   "cell_type": "code",
   "execution_count": 64,
   "metadata": {},
   "outputs": [
    {
     "data": {
      "text/html": [
       "<table>\n",
       "<thead><tr><th></th><th scope=col>CLPID</th><th scope=col>Name</th><th scope=col>Year</th><th scope=col>Month</th><th scope=col>WifiSessions</th><th scope=col>WifiMinutes</th></tr></thead>\n",
       "<tbody>\n",
       "\t<tr><th scope=row>2018_01_CLP17</th><td>CLP17                </td><td>SQUIRREL HILL LIBRARY</td><td>2018                 </td><td>1                    </td><td>4574                 </td><td>628896               </td></tr>\n",
       "</tbody>\n",
       "</table>\n"
      ],
      "text/latex": [
       "\\begin{tabular}{r|llllll}\n",
       "  & CLPID & Name & Year & Month & WifiSessions & WifiMinutes\\\\\n",
       "\\hline\n",
       "\t2018\\_01\\_CLP17 & CLP17                 & SQUIRREL HILL LIBRARY & 2018                  & 1                     & 4574                  & 628896               \\\\\n",
       "\\end{tabular}\n"
      ],
      "text/markdown": [
       "\n",
       "| <!--/--> | CLPID | Name | Year | Month | WifiSessions | WifiMinutes |\n",
       "|---|---|---|---|---|---|---|\n",
       "| 2018_01_CLP17 | CLP17                 | SQUIRREL HILL LIBRARY | 2018                  | 1                     | 4574                  | 628896                |\n",
       "\n"
      ],
      "text/plain": [
       "              CLPID Name                  Year Month WifiSessions WifiMinutes\n",
       "2018_01_CLP17 CLP17 SQUIRREL HILL LIBRARY 2018 1     4574         628896     "
      ]
     },
     "metadata": {},
     "output_type": "display_data"
    },
    {
     "data": {
      "text/html": [
       "<table>\n",
       "<thead><tr><th></th><th scope=col>CLPID</th><th scope=col>Name</th><th scope=col>Year</th><th scope=col>Month</th><th scope=col>WifiSessions</th><th scope=col>WifiMinutes</th></tr></thead>\n",
       "<tbody>\n",
       "\t<tr><th scope=row>2018_01_CLP17</th><td>CLP17                </td><td>SQUIRREL HILL LIBRARY</td><td>2018                 </td><td>1                    </td><td>4574                 </td><td>628896               </td></tr>\n",
       "\t<tr><th scope=row>2018_02_CLP17</th><td>CLP17                </td><td>SQUIRREL HILL LIBRARY</td><td>2018                 </td><td>2                    </td><td>5022                 </td><td>696437               </td></tr>\n",
       "\t<tr><th scope=row>2018_03_CLP17</th><td>CLP17                </td><td>SQUIRREL HILL LIBRARY</td><td>2018                 </td><td>3                    </td><td>5427                 </td><td>752002               </td></tr>\n",
       "</tbody>\n",
       "</table>\n"
      ],
      "text/latex": [
       "\\begin{tabular}{r|llllll}\n",
       "  & CLPID & Name & Year & Month & WifiSessions & WifiMinutes\\\\\n",
       "\\hline\n",
       "\t2018\\_01\\_CLP17 & CLP17                 & SQUIRREL HILL LIBRARY & 2018                  & 1                     & 4574                  & 628896               \\\\\n",
       "\t2018\\_02\\_CLP17 & CLP17                 & SQUIRREL HILL LIBRARY & 2018                  & 2                     & 5022                  & 696437               \\\\\n",
       "\t2018\\_03\\_CLP17 & CLP17                 & SQUIRREL HILL LIBRARY & 2018                  & 3                     & 5427                  & 752002               \\\\\n",
       "\\end{tabular}\n"
      ],
      "text/markdown": [
       "\n",
       "| <!--/--> | CLPID | Name | Year | Month | WifiSessions | WifiMinutes |\n",
       "|---|---|---|---|---|---|---|\n",
       "| 2018_01_CLP17 | CLP17                 | SQUIRREL HILL LIBRARY | 2018                  | 1                     | 4574                  | 628896                |\n",
       "| 2018_02_CLP17 | CLP17                 | SQUIRREL HILL LIBRARY | 2018                  | 2                     | 5022                  | 696437                |\n",
       "| 2018_03_CLP17 | CLP17                 | SQUIRREL HILL LIBRARY | 2018                  | 3                     | 5427                  | 752002                |\n",
       "\n"
      ],
      "text/plain": [
       "              CLPID Name                  Year Month WifiSessions WifiMinutes\n",
       "2018_01_CLP17 CLP17 SQUIRREL HILL LIBRARY 2018 1     4574         628896     \n",
       "2018_02_CLP17 CLP17 SQUIRREL HILL LIBRARY 2018 2     5022         696437     \n",
       "2018_03_CLP17 CLP17 SQUIRREL HILL LIBRARY 2018 3     5427         752002     "
      ]
     },
     "metadata": {},
     "output_type": "display_data"
    }
   ],
   "source": [
    "# now that we have given our rows names :), let's pull out some rows by name\n",
    "\n",
    "# January 2018 in Squirrel Hill \n",
    "clp_wifi[\"2018_01_CLP17\", ]\n",
    "\n",
    "# the first quarter of 2018 in Squirrel Hill\n",
    "clp_wifi[c(\"2018_01_CLP17\", \"2018_02_CLP17\", \"2018_03_CLP17\"), ]"
   ]
  },
  {
   "cell_type": "markdown",
   "metadata": {},
   "source": [
    "Now, whether we're discussing rows or columns, there are some rules. We can't go mixing positive and negative indices. It isn't allowed."
   ]
  },
  {
   "cell_type": "code",
   "execution_count": 38,
   "metadata": {},
   "outputs": [
    {
     "ename": "ERROR",
     "evalue": "Error in xj[i]: only 0's may be mixed with negative subscripts\n",
     "output_type": "error",
     "traceback": [
      "Error in xj[i]: only 0's may be mixed with negative subscripts\nTraceback:\n",
      "1. clp_wifi[c(-1, 2, 3), ]",
      "2. `[.data.frame`(clp_wifi, c(-1, 2, 3), )"
     ]
    }
   ],
   "source": [
    "clp_wifi[c(-1, 2, 3), ]"
   ]
  },
  {
   "cell_type": "markdown",
   "metadata": {},
   "source": [
    "Speaking of zeroes, the book included them as if they're some kind of valid thing, but then freely admitted that they're useless. Let's go ahead and try out some zeroes, yeah?"
   ]
  },
  {
   "cell_type": "code",
   "execution_count": 39,
   "metadata": {},
   "outputs": [
    {
     "data": {
      "text/html": [
       "<table>\n",
       "<thead><tr><th scope=col>CLPID</th><th scope=col>Name</th><th scope=col>Year</th><th scope=col>Month</th><th scope=col>WifiSessions</th><th scope=col>WifiMinutes</th></tr></thead>\n",
       "<tbody>\n",
       "</tbody>\n",
       "</table>\n"
      ],
      "text/latex": [
       "\\begin{tabular}{r|llllll}\n",
       " CLPID & Name & Year & Month & WifiSessions & WifiMinutes\\\\\n",
       "\\hline\n",
       "\\end{tabular}\n"
      ],
      "text/markdown": [
       "\n",
       "| CLPID | Name | Year | Month | WifiSessions | WifiMinutes |\n",
       "|---|---|---|---|---|---|\n",
       "\n"
      ],
      "text/plain": [
       "     CLPID Name Year Month WifiSessions WifiMinutes"
      ]
     },
     "metadata": {},
     "output_type": "display_data"
    }
   ],
   "source": [
    "clp_wifi[0, ]"
   ]
  },
  {
   "cell_type": "code",
   "execution_count": 40,
   "metadata": {},
   "outputs": [
    {
     "name": "stderr",
     "output_type": "stream",
     "text": [
      "Warning message in rbind(parts$upper, ellip_v, parts$lower, deparse.level = 0L):\n",
      "\"number of columns of result is not a multiple of vector length (arg 2)\""
     ]
    },
    {
     "data": {
      "text/html": [],
      "text/latex": [],
      "text/markdown": [],
      "text/plain": [
       "   \n",
       "1  \n",
       "2  \n",
       "3  \n",
       "4  \n",
       "5  \n",
       "6  \n",
       "7  \n",
       "8  \n",
       "9  \n",
       "10 \n",
       "11 \n",
       "12 \n",
       "13 \n",
       "14 \n",
       "15 \n",
       "16 \n",
       "17 \n",
       "18 \n",
       "19 \n",
       "20 \n",
       "21 \n",
       "22 \n",
       "23 \n",
       "24 \n",
       "25 \n",
       "26 \n",
       "27 \n",
       "28 \n",
       "29 \n",
       "30 \n",
       "...\n",
       "503\n",
       "504\n",
       "505\n",
       "506\n",
       "507\n",
       "508\n",
       "509\n",
       "510\n",
       "511\n",
       "512\n",
       "513\n",
       "514\n",
       "515\n",
       "516\n",
       "517\n",
       "518\n",
       "519\n",
       "520\n",
       "521\n",
       "522\n",
       "523\n",
       "524\n",
       "525\n",
       "526\n",
       "527\n",
       "528\n",
       "529\n",
       "530\n",
       "531\n",
       "532"
      ]
     },
     "metadata": {},
     "output_type": "display_data"
    }
   ],
   "source": [
    "clp_wifi[, 0]"
   ]
  },
  {
   "cell_type": "code",
   "execution_count": 42,
   "metadata": {},
   "outputs": [
    {
     "name": "stdout",
     "output_type": "stream",
     "text": [
      "data frame with 0 columns and 0 rows\n"
     ]
    }
   ],
   "source": [
    "print(clp_wifi[0, 0])\n",
    "# don't forget print() exists; sometimes we get more information that way"
   ]
  },
  {
   "cell_type": "markdown",
   "metadata": {},
   "source": [
    "## Pulling together _some_ rows and _some_ columns\n",
    "\n",
    "Sometimes we don't want the entire huge dataframe we've been given. We can subset it down to the data we find useful, combining our methods for choosing rows with our methods for choosing columns."
   ]
  },
  {
   "cell_type": "code",
   "execution_count": 72,
   "metadata": {},
   "outputs": [
    {
     "data": {
      "text/html": [
       "<table>\n",
       "<thead><tr><th></th><th scope=col>WifiSessions</th><th scope=col>WifiMinutes</th></tr></thead>\n",
       "<tbody>\n",
       "\t<tr><th scope=row>2016_01_CLP01</th><td>1037  </td><td>148513</td></tr>\n",
       "\t<tr><th scope=row>2016_02_CLP01</th><td>1064  </td><td>150948</td></tr>\n",
       "\t<tr><th scope=row>2016_03_CLP01</th><td> 949  </td><td>129484</td></tr>\n",
       "\t<tr><th scope=row>2016_04_CLP01</th><td> 934  </td><td>136196</td></tr>\n",
       "\t<tr><th scope=row>2016_05_CLP01</th><td>1018  </td><td>135793</td></tr>\n",
       "\t<tr><th scope=row>2016_06_CLP01</th><td>1163  </td><td>169426</td></tr>\n",
       "\t<tr><th scope=row>2016_07_CLP01</th><td>1352  </td><td>208802</td></tr>\n",
       "\t<tr><th scope=row>2016_08_CLP01</th><td>1436  </td><td>219842</td></tr>\n",
       "\t<tr><th scope=row>2016_09_CLP01</th><td>1222  </td><td>180409</td></tr>\n",
       "\t<tr><th scope=row>2016_10_CLP01</th><td>1086  </td><td>156120</td></tr>\n",
       "\t<tr><th scope=row>2016_11_CLP01</th><td>1038  </td><td>141003</td></tr>\n",
       "\t<tr><th scope=row>2016_12_CLP01</th><td> 925  </td><td>140230</td></tr>\n",
       "\t<tr><th scope=row>2017_01_CLP01</th><td>1070  </td><td>167159</td></tr>\n",
       "\t<tr><th scope=row>2017_02_CLP01</th><td>1029  </td><td>148976</td></tr>\n",
       "\t<tr><th scope=row>2017_03_CLP01</th><td>1400  </td><td>118952</td></tr>\n",
       "\t<tr><th scope=row>2017_04_CLP01</th><td>1725  </td><td>155280</td></tr>\n",
       "\t<tr><th scope=row>2017_05_CLP01</th><td>1758  </td><td>154950</td></tr>\n",
       "\t<tr><th scope=row>2017_06_CLP01</th><td>1943  </td><td>161154</td></tr>\n",
       "\t<tr><th scope=row>2017_07_CLP01</th><td>1804  </td><td>143425</td></tr>\n",
       "\t<tr><th scope=row>2017_08_CLP01</th><td>2274  </td><td>195316</td></tr>\n",
       "\t<tr><th scope=row>2017_09_CLP01</th><td>2064  </td><td>170576</td></tr>\n",
       "\t<tr><th scope=row>2017_10_CLP01</th><td>1896  </td><td>159538</td></tr>\n",
       "\t<tr><th scope=row>2017_11_CLP01</th><td>1587  </td><td>139323</td></tr>\n",
       "\t<tr><th scope=row>2017_12_CLP01</th><td>1364  </td><td>123693</td></tr>\n",
       "\t<tr><th scope=row>2018_01_CLP01</th><td>1771  </td><td>156736</td></tr>\n",
       "</tbody>\n",
       "</table>\n"
      ],
      "text/latex": [
       "\\begin{tabular}{r|ll}\n",
       "  & WifiSessions & WifiMinutes\\\\\n",
       "\\hline\n",
       "\t2016\\_01\\_CLP01 & 1037   & 148513\\\\\n",
       "\t2016\\_02\\_CLP01 & 1064   & 150948\\\\\n",
       "\t2016\\_03\\_CLP01 &  949   & 129484\\\\\n",
       "\t2016\\_04\\_CLP01 &  934   & 136196\\\\\n",
       "\t2016\\_05\\_CLP01 & 1018   & 135793\\\\\n",
       "\t2016\\_06\\_CLP01 & 1163   & 169426\\\\\n",
       "\t2016\\_07\\_CLP01 & 1352   & 208802\\\\\n",
       "\t2016\\_08\\_CLP01 & 1436   & 219842\\\\\n",
       "\t2016\\_09\\_CLP01 & 1222   & 180409\\\\\n",
       "\t2016\\_10\\_CLP01 & 1086   & 156120\\\\\n",
       "\t2016\\_11\\_CLP01 & 1038   & 141003\\\\\n",
       "\t2016\\_12\\_CLP01 &  925   & 140230\\\\\n",
       "\t2017\\_01\\_CLP01 & 1070   & 167159\\\\\n",
       "\t2017\\_02\\_CLP01 & 1029   & 148976\\\\\n",
       "\t2017\\_03\\_CLP01 & 1400   & 118952\\\\\n",
       "\t2017\\_04\\_CLP01 & 1725   & 155280\\\\\n",
       "\t2017\\_05\\_CLP01 & 1758   & 154950\\\\\n",
       "\t2017\\_06\\_CLP01 & 1943   & 161154\\\\\n",
       "\t2017\\_07\\_CLP01 & 1804   & 143425\\\\\n",
       "\t2017\\_08\\_CLP01 & 2274   & 195316\\\\\n",
       "\t2017\\_09\\_CLP01 & 2064   & 170576\\\\\n",
       "\t2017\\_10\\_CLP01 & 1896   & 159538\\\\\n",
       "\t2017\\_11\\_CLP01 & 1587   & 139323\\\\\n",
       "\t2017\\_12\\_CLP01 & 1364   & 123693\\\\\n",
       "\t2018\\_01\\_CLP01 & 1771   & 156736\\\\\n",
       "\\end{tabular}\n"
      ],
      "text/markdown": [
       "\n",
       "| <!--/--> | WifiSessions | WifiMinutes |\n",
       "|---|---|---|\n",
       "| 2016_01_CLP01 | 1037   | 148513 |\n",
       "| 2016_02_CLP01 | 1064   | 150948 |\n",
       "| 2016_03_CLP01 |  949   | 129484 |\n",
       "| 2016_04_CLP01 |  934   | 136196 |\n",
       "| 2016_05_CLP01 | 1018   | 135793 |\n",
       "| 2016_06_CLP01 | 1163   | 169426 |\n",
       "| 2016_07_CLP01 | 1352   | 208802 |\n",
       "| 2016_08_CLP01 | 1436   | 219842 |\n",
       "| 2016_09_CLP01 | 1222   | 180409 |\n",
       "| 2016_10_CLP01 | 1086   | 156120 |\n",
       "| 2016_11_CLP01 | 1038   | 141003 |\n",
       "| 2016_12_CLP01 |  925   | 140230 |\n",
       "| 2017_01_CLP01 | 1070   | 167159 |\n",
       "| 2017_02_CLP01 | 1029   | 148976 |\n",
       "| 2017_03_CLP01 | 1400   | 118952 |\n",
       "| 2017_04_CLP01 | 1725   | 155280 |\n",
       "| 2017_05_CLP01 | 1758   | 154950 |\n",
       "| 2017_06_CLP01 | 1943   | 161154 |\n",
       "| 2017_07_CLP01 | 1804   | 143425 |\n",
       "| 2017_08_CLP01 | 2274   | 195316 |\n",
       "| 2017_09_CLP01 | 2064   | 170576 |\n",
       "| 2017_10_CLP01 | 1896   | 159538 |\n",
       "| 2017_11_CLP01 | 1587   | 139323 |\n",
       "| 2017_12_CLP01 | 1364   | 123693 |\n",
       "| 2018_01_CLP01 | 1771   | 156736 |\n",
       "\n"
      ],
      "text/plain": [
       "              WifiSessions WifiMinutes\n",
       "2016_01_CLP01 1037         148513     \n",
       "2016_02_CLP01 1064         150948     \n",
       "2016_03_CLP01  949         129484     \n",
       "2016_04_CLP01  934         136196     \n",
       "2016_05_CLP01 1018         135793     \n",
       "2016_06_CLP01 1163         169426     \n",
       "2016_07_CLP01 1352         208802     \n",
       "2016_08_CLP01 1436         219842     \n",
       "2016_09_CLP01 1222         180409     \n",
       "2016_10_CLP01 1086         156120     \n",
       "2016_11_CLP01 1038         141003     \n",
       "2016_12_CLP01  925         140230     \n",
       "2017_01_CLP01 1070         167159     \n",
       "2017_02_CLP01 1029         148976     \n",
       "2017_03_CLP01 1400         118952     \n",
       "2017_04_CLP01 1725         155280     \n",
       "2017_05_CLP01 1758         154950     \n",
       "2017_06_CLP01 1943         161154     \n",
       "2017_07_CLP01 1804         143425     \n",
       "2017_08_CLP01 2274         195316     \n",
       "2017_09_CLP01 2064         170576     \n",
       "2017_10_CLP01 1896         159538     \n",
       "2017_11_CLP01 1587         139323     \n",
       "2017_12_CLP01 1364         123693     \n",
       "2018_01_CLP01 1771         156736     "
      ]
     },
     "metadata": {},
     "output_type": "display_data"
    }
   ],
   "source": [
    "# what if we just want the first 25 rows, and only WifiSessions and WifiMinutes?\n",
    "\n",
    "clp_wifi[1:25, c(\"WifiSessions\", \"WifiMinutes\")]"
   ]
  },
  {
   "cell_type": "markdown",
   "metadata": {},
   "source": [
    "(And here, Coral gets a bit ahead of themself, so that you have something interesting to do for homework.)\n",
    "\n",
    "We can pull data from frames with conditionals. We'll do a lot of this next week, but let's do just a little of it this week, as a treat.\n",
    "\n",
    "Say we only want library name, month, sessions, and minutes from 2016, for instance. We can do that."
   ]
  },
  {
   "cell_type": "code",
   "execution_count": 90,
   "metadata": {},
   "outputs": [
    {
     "data": {
      "text/html": [
       "<table>\n",
       "<thead><tr><th></th><th scope=col>Name</th><th scope=col>Month</th><th scope=col>WifiSessions</th><th scope=col>WifiMinutes</th></tr></thead>\n",
       "<tbody>\n",
       "\t<tr><th scope=row>2016_01_CLP01</th><td>ALLEGHENY LIBRARY</td><td>1                </td><td>1037             </td><td>148513           </td></tr>\n",
       "\t<tr><th scope=row>2016_02_CLP01</th><td>ALLEGHENY LIBRARY</td><td>2                </td><td>1064             </td><td>150948           </td></tr>\n",
       "\t<tr><th scope=row>2016_03_CLP01</th><td>ALLEGHENY LIBRARY</td><td>3                </td><td> 949             </td><td>129484           </td></tr>\n",
       "\t<tr><th scope=row>2016_04_CLP01</th><td>ALLEGHENY LIBRARY</td><td>4                </td><td> 934             </td><td>136196           </td></tr>\n",
       "\t<tr><th scope=row>2016_05_CLP01</th><td>ALLEGHENY LIBRARY</td><td>5                </td><td>1018             </td><td>135793           </td></tr>\n",
       "\t<tr><th scope=row>2016_06_CLP01</th><td>ALLEGHENY LIBRARY</td><td>6                </td><td>1163             </td><td>169426           </td></tr>\n",
       "</tbody>\n",
       "</table>\n"
      ],
      "text/latex": [
       "\\begin{tabular}{r|llll}\n",
       "  & Name & Month & WifiSessions & WifiMinutes\\\\\n",
       "\\hline\n",
       "\t2016\\_01\\_CLP01 & ALLEGHENY LIBRARY & 1                 & 1037              & 148513           \\\\\n",
       "\t2016\\_02\\_CLP01 & ALLEGHENY LIBRARY & 2                 & 1064              & 150948           \\\\\n",
       "\t2016\\_03\\_CLP01 & ALLEGHENY LIBRARY & 3                 &  949              & 129484           \\\\\n",
       "\t2016\\_04\\_CLP01 & ALLEGHENY LIBRARY & 4                 &  934              & 136196           \\\\\n",
       "\t2016\\_05\\_CLP01 & ALLEGHENY LIBRARY & 5                 & 1018              & 135793           \\\\\n",
       "\t2016\\_06\\_CLP01 & ALLEGHENY LIBRARY & 6                 & 1163              & 169426           \\\\\n",
       "\\end{tabular}\n"
      ],
      "text/markdown": [
       "\n",
       "| <!--/--> | Name | Month | WifiSessions | WifiMinutes |\n",
       "|---|---|---|---|---|\n",
       "| 2016_01_CLP01 | ALLEGHENY LIBRARY | 1                 | 1037              | 148513            |\n",
       "| 2016_02_CLP01 | ALLEGHENY LIBRARY | 2                 | 1064              | 150948            |\n",
       "| 2016_03_CLP01 | ALLEGHENY LIBRARY | 3                 |  949              | 129484            |\n",
       "| 2016_04_CLP01 | ALLEGHENY LIBRARY | 4                 |  934              | 136196            |\n",
       "| 2016_05_CLP01 | ALLEGHENY LIBRARY | 5                 | 1018              | 135793            |\n",
       "| 2016_06_CLP01 | ALLEGHENY LIBRARY | 6                 | 1163              | 169426            |\n",
       "\n"
      ],
      "text/plain": [
       "              Name              Month WifiSessions WifiMinutes\n",
       "2016_01_CLP01 ALLEGHENY LIBRARY 1     1037         148513     \n",
       "2016_02_CLP01 ALLEGHENY LIBRARY 2     1064         150948     \n",
       "2016_03_CLP01 ALLEGHENY LIBRARY 3      949         129484     \n",
       "2016_04_CLP01 ALLEGHENY LIBRARY 4      934         136196     \n",
       "2016_05_CLP01 ALLEGHENY LIBRARY 5     1018         135793     \n",
       "2016_06_CLP01 ALLEGHENY LIBRARY 6     1163         169426     "
      ]
     },
     "metadata": {},
     "output_type": "display_data"
    },
    {
     "data": {
      "text/html": [
       "<table>\n",
       "<thead><tr><th></th><th scope=col>Name</th><th scope=col>Month</th><th scope=col>WifiSessions</th><th scope=col>WifiMinutes</th></tr></thead>\n",
       "<tbody>\n",
       "\t<tr><th scope=row>2016_07_CLP19</th><td>WOODS RUN LIBRARY</td><td> 7               </td><td>910              </td><td>121013           </td></tr>\n",
       "\t<tr><th scope=row>2016_08_CLP19</th><td>WOODS RUN LIBRARY</td><td> 8               </td><td>936              </td><td>115524           </td></tr>\n",
       "\t<tr><th scope=row>2016_09_CLP19</th><td>WOODS RUN LIBRARY</td><td> 9               </td><td>787              </td><td>113217           </td></tr>\n",
       "\t<tr><th scope=row>2016_10_CLP19</th><td>WOODS RUN LIBRARY</td><td>10               </td><td>690              </td><td>101788           </td></tr>\n",
       "\t<tr><th scope=row>2016_11_CLP19</th><td>WOODS RUN LIBRARY</td><td>11               </td><td>766              </td><td>119559           </td></tr>\n",
       "\t<tr><th scope=row>2016_12_CLP19</th><td>WOODS RUN LIBRARY</td><td>12               </td><td>538              </td><td> 78865           </td></tr>\n",
       "</tbody>\n",
       "</table>\n"
      ],
      "text/latex": [
       "\\begin{tabular}{r|llll}\n",
       "  & Name & Month & WifiSessions & WifiMinutes\\\\\n",
       "\\hline\n",
       "\t2016\\_07\\_CLP19 & WOODS RUN LIBRARY &  7                & 910               & 121013           \\\\\n",
       "\t2016\\_08\\_CLP19 & WOODS RUN LIBRARY &  8                & 936               & 115524           \\\\\n",
       "\t2016\\_09\\_CLP19 & WOODS RUN LIBRARY &  9                & 787               & 113217           \\\\\n",
       "\t2016\\_10\\_CLP19 & WOODS RUN LIBRARY & 10                & 690               & 101788           \\\\\n",
       "\t2016\\_11\\_CLP19 & WOODS RUN LIBRARY & 11                & 766               & 119559           \\\\\n",
       "\t2016\\_12\\_CLP19 & WOODS RUN LIBRARY & 12                & 538               &  78865           \\\\\n",
       "\\end{tabular}\n"
      ],
      "text/markdown": [
       "\n",
       "| <!--/--> | Name | Month | WifiSessions | WifiMinutes |\n",
       "|---|---|---|---|---|\n",
       "| 2016_07_CLP19 | WOODS RUN LIBRARY |  7                | 910               | 121013            |\n",
       "| 2016_08_CLP19 | WOODS RUN LIBRARY |  8                | 936               | 115524            |\n",
       "| 2016_09_CLP19 | WOODS RUN LIBRARY |  9                | 787               | 113217            |\n",
       "| 2016_10_CLP19 | WOODS RUN LIBRARY | 10                | 690               | 101788            |\n",
       "| 2016_11_CLP19 | WOODS RUN LIBRARY | 11                | 766               | 119559            |\n",
       "| 2016_12_CLP19 | WOODS RUN LIBRARY | 12                | 538               |  78865            |\n",
       "\n"
      ],
      "text/plain": [
       "              Name              Month WifiSessions WifiMinutes\n",
       "2016_07_CLP19 WOODS RUN LIBRARY  7    910          121013     \n",
       "2016_08_CLP19 WOODS RUN LIBRARY  8    936          115524     \n",
       "2016_09_CLP19 WOODS RUN LIBRARY  9    787          113217     \n",
       "2016_10_CLP19 WOODS RUN LIBRARY 10    690          101788     \n",
       "2016_11_CLP19 WOODS RUN LIBRARY 11    766          119559     \n",
       "2016_12_CLP19 WOODS RUN LIBRARY 12    538           78865     "
      ]
     },
     "metadata": {},
     "output_type": "display_data"
    }
   ],
   "source": [
    "#minutes_in_2016 <- clp_wifi$WifiMinutes[clp_wifi$Year == 2016]\n",
    "data_from_2016 <- clp_wifi[clp_wifi$Year == 2016, c(\"Name\", \"Month\", \"WifiSessions\", \"WifiMinutes\")]\n",
    "\n",
    "# confirming\n",
    "head(data_from_2016)\n",
    "tail(data_from_2016)"
   ]
  },
  {
   "cell_type": "code",
   "execution_count": 97,
   "metadata": {},
   "outputs": [
    {
     "data": {
      "image/png": "[encoded data removed]",
      "text/plain": [
       "plot without title"
      ]
     },
     "metadata": {},
     "output_type": "display_data"
    }
   ],
   "source": [
    "library_name <- data_from_2016$Name\n",
    "library(ggplot2)\n",
    "qplot(data_from_2016$Month, data_from_2016$WifiMinutes, color=library_name, xlab=\"Month\", ylab=\"Minutes of WiFi Usage\")"
   ]
  },
  {
   "cell_type": "code",
   "execution_count": null,
   "metadata": {},
   "outputs": [],
   "source": []
  }
 ],
 "metadata": {
  "kernelspec": {
   "display_name": "R",
   "language": "R",
   "name": "ir"
  },
  "language_info": {
   "codemirror_mode": "r",
   "file_extension": ".r",
   "mimetype": "text/x-r-source",
   "name": "R",
   "pygments_lexer": "r",
   "version": "3.6.1"
  }
 },
 "nbformat": 4,
 "nbformat_minor": 4
}
