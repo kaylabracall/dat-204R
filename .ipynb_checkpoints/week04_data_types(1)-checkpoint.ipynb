{
 "cells": [
  {
   "cell_type": "markdown",
   "metadata": {},
   "source": [
    "# Data Types\n",
    "\n",
    "There are six types of objects in R:\n",
    "* double\n",
    "* integer\n",
    "* character\n",
    "* logical\n",
    "* complex\n",
    "* raw\n",
    "\n",
    "You can find out what type of thing you are dealing with using `typeof()`\n",
    "\n",
    "You can (often, not always) coerce a thing from one type to another.\n",
    "\n",
    "## Double\n",
    "\n",
    "Most of the time when you feed R a number it's going to assume you want a double. \n",
    "\n",
    "A note on naming: the book sometimes says \"numeric\" in the place of \"double.\" Either's fine. It's a difference between calling `typeof()` and `class()`. Also, while \"numeric\" doesn't mean anything outside of the context of R, the term \"double\" has a very formal and specific meaning that transcends specific programming languages. Let's talk about that:\n",
    "\n",
    "### Floating point\n",
    "\n",
    "The term \"double\" is just short for \"double precision floating point.\"\n",
    "\n",
    "Do you remember from science courses in your past how we tend to use scientific notation for very small and very large numbers?\n",
    "\n",
    "* 6.02 * 10^23\n",
    "* 1.616255 * 10^−35\n",
    "\n",
    "Yeah, well, we pretty much also do that in binary for numbers that *could be* very large or very small, and that representation is called \"floating point.\"\n",
    "* 1.1111... * 2^-1023 - smallest double \\[precision floating point number\\]\n",
    "* 1.1111... * 2^1023 - biggest double \\[precision floating point number\\]\n",
    "\n",
    "Without digging into all the details, the parts you might actually care about go like this:\n",
    "* there's a bit that says \"this is a positive or negative number\"\n",
    "* there are 11 bits that are the exponent - up to 2^11 \n",
    "* there are 52 bits that specify the \"significand\" or \"mantissa\" - up to 2^52\n",
    "* there are both negative and positive zeros\n",
    "* there are both negative and positive infinities\n",
    "* there is more nuance that I have not explained here\n",
    "\n",
    "And most importantly:\n",
    "* there are rounding errors\n",
    "\n",
    "If you're doing financial calculations, you either need to use a library specifically for that, or you need to do all of your math in integers, dealing with dollars and cents separately. \n",
    "\n",
    "For most data science applications we'll use floats even though that can sometimes get us in trouble. ¯\\\\_(ツ)_/¯\n",
    "\n",
    "We can [play around with this if you want](https://evanw.github.io/float-toy/)"
   ]
  },
  {
   "cell_type": "code",
   "execution_count": null,
   "metadata": {},
   "outputs": [],
   "source": [
    "n <- 5\n",
    "n\n",
    "typeof(n)\n",
    "class(n)"
   ]
  },
  {
   "cell_type": "markdown",
   "metadata": {},
   "source": [
    "## Integer\n",
    "\n",
    "While there are some rounding errors inherent in dealing with floats/doubles/numerics, integers come with none of that. (We can talk about how integers are represented in binary if you want, but we don't have to.) \n",
    "\n",
    "Down side: they're just whole numbers, no fun decimal points or anything. "
   ]
  },
  {
   "cell_type": "code",
   "execution_count": null,
   "metadata": {},
   "outputs": [],
   "source": [
    "n <- 5L\n",
    "n\n",
    "typeof(n)\n",
    "class(n)"
   ]
  },
  {
   "cell_type": "code",
   "execution_count": null,
   "metadata": {},
   "outputs": [],
   "source": [
    "# ok but what if...?\n",
    "n <- 5.5L\n",
    "n\n",
    "typeof(n)\n",
    "class(n)"
   ]
  },
  {
   "cell_type": "code",
   "execution_count": null,
   "metadata": {},
   "outputs": [],
   "source": [
    "# and how about ...?\n",
    "n <- as.integer(5.5)\n",
    "n\n",
    "typeof(n)\n",
    "class(n)"
   ]
  },
  {
   "cell_type": "markdown",
   "metadata": {},
   "source": [
    "## Character\n",
    "\n",
    "Objects of type \"character\" (which in other languages we might refer to as \"strings\") contain one or more letters, numbers, or symbols. You can tell you're dealing with a character type because it has quotes around it, e.g.\n",
    "```R\n",
    "n <- 5    # double/numeric\n",
    "m <- \"5\"  # character\n",
    "```"
   ]
  },
  {
   "cell_type": "code",
   "execution_count": null,
   "metadata": {},
   "outputs": [],
   "source": [
    "n <- \"hello!\"\n",
    "n\n",
    "typeof(n)"
   ]
  },
  {
   "cell_type": "code",
   "execution_count": null,
   "metadata": {},
   "outputs": [],
   "source": [
    "n <- 5 # that's a double, yes, intentionally\n",
    "m <- as.character(n)\n",
    "m\n",
    "typeof(m)"
   ]
  },
  {
   "cell_type": "markdown",
   "metadata": {},
   "source": [
    "## Logicals\n",
    "\n",
    "In other languages we might call these \"Booleans\" or \"bools\"\n",
    "\n",
    "The two logical values:\n",
    "* `TRUE`\n",
    "* `FALSE`\n",
    "\n",
    "If you're dealing with a function that expects a logical as an argument, you can shorten to `T` or `F`, and it'll work fine."
   ]
  },
  {
   "cell_type": "code",
   "execution_count": null,
   "metadata": {},
   "outputs": [],
   "source": [
    "n <- TRUE\n",
    "n\n",
    "typeof(n)"
   ]
  },
  {
   "cell_type": "code",
   "execution_count": null,
   "metadata": {},
   "outputs": [],
   "source": [
    "# OK, but ...\n",
    "n <- TRUE\n",
    "\n",
    "# can we make a logical into an int?\n",
    "m <- as.integer(n)\n",
    "m\n",
    "typeof(m)\n",
    "\n",
    "# can we make a logical into a character?\n",
    "k <- as.character(n)\n",
    "k\n",
    "typeof(k)"
   ]
  },
  {
   "cell_type": "code",
   "execution_count": null,
   "metadata": {},
   "outputs": [],
   "source": [
    "# can we make other things into logicals?\n",
    "\n",
    "# numeric to logical?\n",
    "x <- 1\n",
    "y <- as.logical(x)\n",
    "y\n",
    "typeof(y)\n",
    "\n",
    "# character to logical?\n",
    "q <- \"TRUE\"\n",
    "r <- as.logical(q)\n",
    "q\n",
    "typeof(q)"
   ]
  },
  {
   "cell_type": "markdown",
   "metadata": {},
   "source": [
    "## Complex and raw - we keep glossing over these\n",
    "\n",
    "But we really don't use them outside of some very specific kinds of engineering."
   ]
  },
  {
   "cell_type": "code",
   "execution_count": null,
   "metadata": {},
   "outputs": [],
   "source": [
    "cpl <- 4 + 5i\n",
    "cpl\n",
    "typeof(cpl)"
   ]
  },
  {
   "cell_type": "code",
   "execution_count": null,
   "metadata": {},
   "outputs": [],
   "source": [
    "x <- raw(8)\n",
    "x\n",
    "typeof(x)"
   ]
  },
  {
   "cell_type": "markdown",
   "metadata": {},
   "source": [
    "# Data ... Collection? Types?\n",
    "\n",
    "Yes, I'm going to call them \"Data Collection Types,\" by which I mean\n",
    "* Atomic vectors\n",
    "* Lists\n",
    "* Matrices\n",
    "* Arrays (which I'm going to skip)\n",
    "* Data frames\n",
    "\n",
    "## Vectors\n",
    "\n",
    "Vectors are the most basic type. They are single-dimensional and will only accept a single type of object. (No vectors with combinations of characters, numerics, and logicals. It's not allowed. R will just coerce everything into one type. I'll show you in a moment, after this big reveal.)\n",
    "\n",
    "Secretly, **everything that isn't some more complicated type is actually an atomic vector.** (Whoa.) "
   ]
  },
  {
   "cell_type": "code",
   "execution_count": null,
   "metadata": {},
   "outputs": [],
   "source": [
    "m <- 5\n",
    "is.vector(m)\n",
    "length(m)"
   ]
  },
  {
   "cell_type": "markdown",
   "metadata": {},
   "source": [
    "It's just a single-element vector. That's fine.\n",
    "\n",
    "And we already know how to build multi-element vectors."
   ]
  },
  {
   "cell_type": "code",
   "execution_count": null,
   "metadata": {},
   "outputs": [],
   "source": [
    "my_vector <- c(1, 2, 3, 4, 5, 6, 7, 8, 9)\n",
    "is.vector(my_vector)\n",
    "typeof(my_vector)\n",
    "length(my_vector)"
   ]
  },
  {
   "cell_type": "markdown",
   "metadata": {},
   "source": [
    "So, type coersion. Let's see how that works, yeah?"
   ]
  },
  {
   "cell_type": "code",
   "execution_count": null,
   "metadata": {},
   "outputs": [],
   "source": [
    "v0 <- c(1.1, 2L, 3L)\n",
    "v0\n",
    "\n",
    "v1 <- c(1, 2, TRUE)\n",
    "v1\n",
    "\n",
    "v2 <- c(\"a\", \"b\", TRUE)\n",
    "v2\n",
    "\n",
    "v3 <- c(\"a\", \"b\", 1, 2)\n",
    "v3\n",
    "\n",
    "v4 <- c(1, 2, \"a\", \"b\", TRUE)\n",
    "v4"
   ]
  },
  {
   "cell_type": "markdown",
   "metadata": {},
   "source": [
    "How R auto-coerces types:\n",
    "* ints -> doubles \n",
    "* logicals -> doubles\n",
    "* logicals -> characters\n",
    "* doubles -> characters\n",
    "\n",
    "But sometimes this auto-coersion is useful. For instance, if we try to count how many answers are \"TRUE\""
   ]
  },
  {
   "cell_type": "code",
   "execution_count": null,
   "metadata": {},
   "outputs": [],
   "source": [
    "tf <- c(TRUE, FALSE, TRUE, FALSE, TRUE, FALSE, FALSE, FALSE, TRUE)\n",
    "sum(tf) # they got coerced to 1's and 0's"
   ]
  },
  {
   "cell_type": "markdown",
   "metadata": {},
   "source": [
    "Anyway, I said earlier that atomic vectors are \"basic,\" and that's ... true? But they can hold a lot of information, actually. (Metadata! I assume all data analysts love metadata, not just those of us who got here via librarianship?)\n",
    "\n",
    "You can give each item in the vector a **name**, and you can specify **dimensions** for the vector, making it sort of multi-dimensional. \n",
    "\n",
    "### Attributes\n",
    "\n",
    "There are a couple of ways to name your vector elements:\n",
    "* \n",
    "```\n",
    "vec <- c(name1 = element1, name2 = element2, name3 = element3, ...)\n",
    "```\n",
    "* \n",
    "```\n",
    "vec <- c(element1, element2, element3, ...)\n",
    "names(vec) <- c(name1, name2, name3, ...)\n",
    "```\n",
    "Similarly, you can apply dimensions to your vector like so:\n",
    "* \n",
    "```\n",
    "dim(vec) <- c(a, b) # a rows, b columns, and it fills DOWN THE COLUMNS\n",
    "```  \n",
    "  \n",
    "And then when you want to know what names your elements have, you can call `attributes(vec)`"
   ]
  },
  {
   "cell_type": "code",
   "execution_count": null,
   "metadata": {},
   "outputs": [],
   "source": [
    "die <- c(one=1, two=2, three=3, four=4, five=5, six=6)\n",
    "# die <- 1:6\n",
    "# names(die) <- c(\"one, \"two\", \"three\", \"four\", \"five\", \"six\")\n",
    "die\n",
    "attributes(die)\n",
    "names(die)\n",
    "class(die)"
   ]
  },
  {
   "cell_type": "code",
   "execution_count": null,
   "metadata": {},
   "outputs": [],
   "source": [
    "dim(die) <- c(3, 2)\n",
    "die # notice the order in which it fills\n",
    "attributes(die)\n",
    "names(die) # oops\n",
    "class(die) # hmm"
   ]
  },
  {
   "cell_type": "markdown",
   "metadata": {},
   "source": [
    "### Factors\n",
    "\n",
    "This is how R tries to make it easy for us to deal with categorical data. Each string gets mapped to an integer."
   ]
  },
  {
   "cell_type": "code",
   "execution_count": null,
   "metadata": {},
   "outputs": [],
   "source": [
    "# here's the book's example, with an update\n",
    "gender <- factor(c(\"male\", \"female\", \"other\", \"other\", \"female\"))\n",
    "gender\n",
    "typeof(gender)\n",
    "attributes(gender)"
   ]
  },
  {
   "cell_type": "code",
   "execution_count": null,
   "metadata": {},
   "outputs": [],
   "source": [
    "# and we can kind of figure out how maybe the levels were assigned\n",
    "sort(gender) # looks alphabetical to me\n",
    "\n",
    "# and we can also look at the integers in place:\n",
    "unclass(gender)"
   ]
  },
  {
   "cell_type": "markdown",
   "metadata": {},
   "source": [
    "That, above? That's an OK usage of factors, and you'll sometimes decide to let that happen to some of your data. Often that's fine. But sometimes it's a little more useful to use factors more deliberately:"
   ]
  },
  {
   "cell_type": "code",
   "execution_count": null,
   "metadata": {},
   "outputs": [],
   "source": [
    "# pre-decide your levels and put them in the order you want\n",
    "month_levels <- c(\n",
    "  \"Jan\", \"Feb\", \"Mar\", \"Apr\", \"May\", \"Jun\", \n",
    "  \"Jul\", \"Aug\", \"Sep\", \"Oct\", \"Nov\", \"Dec\"\n",
    ")\n",
    "# put your observations into a vector\n",
    "obvs <- c(\"Oct\", \"May\", \"Jan\", \"Apr\")\n",
    "\n",
    "# and then factor them deliberately!\n",
    "obvs_factored <- factor(obvs, levels=month_levels)\n",
    "\n",
    "# what our factored observations look like (um, nothing new)\n",
    "obvs_factored\n",
    "\n",
    "# but now they can be sorted more usefully\n",
    "sort(obvs_factored)"
   ]
  },
  {
   "cell_type": "code",
   "execution_count": null,
   "metadata": {},
   "outputs": [],
   "source": [
    "# now watch this\n",
    "\n",
    "obvs2 <- c(\"Oct\", \"Max\", \"Jan\", \"Apr\")\n",
    "obvs2_fact <- factor(obvs2, levels=month_levels)\n",
    "obvs2_fact"
   ]
  },
  {
   "cell_type": "markdown",
   "metadata": {},
   "source": [
    "Setting your levels explicitly allows you to throw out errors in data entry. (Was \"Max\" supposed to be \"Mar\" or \"May\"? Dunno, so manybe an NA is better.)\n",
    "\n",
    "## Matrices\n",
    "\n",
    "OK, let's say we like the idea of a multi-dimensional(ish) vector. Our default way to handle that was\n",
    "\n",
    "```R\n",
    "dim(vec) <- c(a, b)\n",
    "```\n",
    "\n",
    "But what if we don't want it filling by column? No problem; we have a thing for that.\n",
    "\n",
    "```R\n",
    "m <- matrix(vector, nrow=a, ncol=b, byrow=TRUE)\n",
    "```"
   ]
  },
  {
   "cell_type": "code",
   "execution_count": null,
   "metadata": {},
   "outputs": [],
   "source": [
    "die <- 1:6\n",
    "mdie <- matrix(die, nrow=3, ncol=2, byrow=TRUE)\n",
    "mdie\n",
    "attributes(mdie)\n",
    "class(mdie)"
   ]
  },
  {
   "cell_type": "markdown",
   "metadata": {},
   "source": [
    "## Lists\n",
    "\n",
    "Sometimes you want a thing that's like a vector but with lots of types in it. OK. That's why we have lists. They are collections of vectors. Each vector can only have one type in it, but you can have multiple vectors of different types."
   ]
  },
  {
   "cell_type": "code",
   "execution_count": null,
   "metadata": {},
   "outputs": [],
   "source": [
    "my_list <- list(die, \"potato\", \"orange\", c(TRUE, FALSE, TRUE, TRUE))\n",
    "my_list\n",
    "typeof(my_list)\n",
    "class(my_list)"
   ]
  },
  {
   "cell_type": "markdown",
   "metadata": {},
   "source": [
    "## Data frames\n",
    "\n",
    "It's all been leading up to this. Here we are. \n",
    "\n",
    "Data frames are where R pays for itself. (OK, R is free, but so is Python, and most of us know that better, right now. :)) They're a built-in type. You don't have to import any modules or anything to have them; they're just part of R! \n",
    "\n",
    "Data frames are two-dimensional; they're tables. Each column is a vector (which means each column must have the same type all the way down), but your columns don't all have to be the same type. As with most tabular data, we think of rows as individual measurements/observations and columns as individual variables, or attributes of each observation. Anything you can put into a spreadsheet you can put into a data frame. \n",
    "\n",
    "You can build a data frame by hand if you want to. That looks like this:\n",
    "```R\n",
    "a <- c(val1, val2, val3, ...)\n",
    "b <- c(x1, x2, x3, ...)\n",
    "c <- c(m1, m2, m3, ...)\n",
    "...\n",
    "df <- data.frame(col_name_1 = a, col_name_2 = b, col_name_3 = c, ...)\n",
    "```\n",
    "\n",
    "And then you'll have a data frame where the columns are named \"col_name_1\", \"col_name_2,\" ... and each column contains the vector associated with it, in a table:\n",
    "\n",
    "```\n",
    "     col_name_1     col_name_2    col_name_3   ...\n",
    "     val1           x1            m1\n",
    "     val2           x2            m2\n",
    "     val3           x3            m3\n",
    "     ...\n",
    "```"
   ]
  },
  {
   "cell_type": "code",
   "execution_count": null,
   "metadata": {},
   "outputs": [],
   "source": [
    "# let's build a data frame with people's pets\n",
    "# we should decide on our columns (species, name, ...?)\n",
    "# and people can volunteer individual observations for our data frame :)\n",
    "\n",
    "pets_df <- data.frame()\n"
   ]
  },
  {
   "cell_type": "markdown",
   "metadata": {},
   "source": [
    "## Saving our data frame\n",
    "\n",
    "First set your working directory. (In a Jupyter notebook, it's going to be wherever you saved the notebook.)\n",
    "\n",
    "In RStudio, you go to Session -> Set Working Directory -> Choose Directory, and decide where you want files to go."
   ]
  },
  {
   "cell_type": "code",
   "execution_count": null,
   "metadata": {},
   "outputs": [],
   "source": [
    "write.csv(pets_df, file=\"pets.csv\", row.names=FALSE) # we don't usually want row names, which are just numbers by default"
   ]
  },
  {
   "cell_type": "markdown",
   "metadata": {},
   "source": [
    "## Loading a data frame\n",
    "\n",
    "Most of the data we want is somewhere out there, maybe in a .csv or something. We need to be able to pull that into R.\n",
    "\n",
    "In RStudio, you can find the \"Import Dataset\" button under the \"Environment\" tab in the Environment Pane. A wizard will pop up. Consider whether you want your strings factored or not. (I generally uncheck that box.)\n",
    "\n",
    "Or you can use a text-based command (which is all we've got in Jupyter notebooks, anyway). "
   ]
  },
  {
   "cell_type": "code",
   "execution_count": null,
   "metadata": {},
   "outputs": [],
   "source": [
    "bike_df = read.csv(\"avsurvey2019data.csv\", stringsAsFactors=FALSE)\n",
    "head(bike_df)"
   ]
  },
  {
   "cell_type": "code",
   "execution_count": null,
   "metadata": {},
   "outputs": [],
   "source": [
    "# pulling out one column to mess with\n",
    "shared <- bike_df[\"SharedCyclist\"]\n",
    "typeof(shared)\n",
    "\n",
    "# alternately\n",
    "shared <- bike_df$SharedCyclist\n",
    "typeof(shared)\n",
    "\n",
    "# and just printing a little of it\n",
    "head(shared)"
   ]
  },
  {
   "cell_type": "code",
   "execution_count": null,
   "metadata": {},
   "outputs": [],
   "source": [
    "# counts every value in the SharedCyclist column that has a value\n",
    "has_val <- sum(!is.na(shared))\n",
    "has_val\n",
    "\n",
    "# counts yesses\n",
    "yes <- sum(shared == \"Yes\")\n",
    "yes\n",
    "\n",
    "# percentage that were yesses\n",
    "perc <- yes / has_val * 100\n",
    "perc"
   ]
  },
  {
   "cell_type": "code",
   "execution_count": null,
   "metadata": {},
   "outputs": [],
   "source": [
    "# alternately... and probably more cleanly\n",
    "yesses <- length(which(shared == \"Yes\"))\n",
    "total <- length(shared)\n",
    "percentage <- yesses/total * 100\n",
    "percentage"
   ]
  },
  {
   "cell_type": "code",
   "execution_count": null,
   "metadata": {},
   "outputs": [],
   "source": []
  },
  {
   "cell_type": "code",
   "execution_count": null,
   "metadata": {},
   "outputs": [],
   "source": []
  }
 ],
 "metadata": {
  "kernelspec": {
   "display_name": "Python 3",
   "language": "python",
   "name": "python3"
  },
  "language_info": {
   "codemirror_mode": {
    "name": "ipython",
    "version": 3
   },
   "file_extension": ".py",
   "mimetype": "text/x-python",
   "name": "python",
   "nbconvert_exporter": "python",
   "pygments_lexer": "ipython3",
   "version": "3.7.1"
  }
 },
 "nbformat": 4,
 "nbformat_minor": 4
}
