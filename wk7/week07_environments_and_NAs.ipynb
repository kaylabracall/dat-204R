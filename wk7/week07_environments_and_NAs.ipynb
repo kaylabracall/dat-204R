{
 "cells": [
  {
   "cell_type": "markdown",
   "metadata": {},
   "source": [
    "# Environments and scoping in R\n",
    "\n",
    "Scoping in R isn't really that weird, if we're coming into it from a programming background, but it really stresses out mathematicians, I guess. \n",
    "\n",
    "Generally, you'll be working in the Global Environment, unless you're working inside a function.\n",
    "\n",
    "(Attribution note: a _lot_ of the code for this particular notebook came from Jordan Benis's lecture notes, which he kindly shared with me.)"
   ]
  },
  {
   "cell_type": "code",
   "execution_count": null,
   "metadata": {},
   "outputs": [],
   "source": [
    "environment()"
   ]
  },
  {
   "cell_type": "code",
   "execution_count": null,
   "metadata": {},
   "outputs": [],
   "source": [
    "# the global environment does have a parent environment\n",
    "parent.env(environment())"
   ]
  },
  {
   "cell_type": "code",
   "execution_count": null,
   "metadata": {},
   "outputs": [],
   "source": [
    "# ... which has a parent environment\n",
    "parent.env(parent.env(environment()))\n",
    "# we could keep going up, but you get the idea"
   ]
  },
  {
   "cell_type": "code",
   "execution_count": null,
   "metadata": {},
   "outputs": [],
   "source": [
    "print(ls())\n",
    "print(ls(globalenv()))\n",
    "#ls(baseenv())"
   ]
  },
  {
   "cell_type": "code",
   "execution_count": null,
   "metadata": {},
   "outputs": [],
   "source": [
    "checkEnv <- function(){\n",
    "  print(environment())\n",
    "  print(parent.env(environment()))\n",
    "  print(ls())\n",
    "}\n",
    "\n",
    "checkEnv()\n",
    "ls()"
   ]
  },
  {
   "cell_type": "code",
   "execution_count": null,
   "metadata": {},
   "outputs": [],
   "source": [
    "checkEnvWarg <- function(arg = 3){\n",
    "  print(environment())\n",
    "  print(parent.env(environment()))\n",
    "  print(ls()) # oooh\n",
    "}\n",
    "\n",
    "checkEnvWarg()\n"
   ]
  },
  {
   "cell_type": "code",
   "execution_count": null,
   "metadata": {},
   "outputs": [],
   "source": [
    "ls()"
   ]
  },
  {
   "cell_type": "markdown",
   "metadata": {},
   "source": [
    "To some extent, scoping in R works just like we expect from other languages. Create a variable inside a function? It goes away when the function returns. It's local to that function. Makes sense. Seems good. We're happy."
   ]
  },
  {
   "cell_type": "code",
   "execution_count": null,
   "metadata": {},
   "outputs": [],
   "source": [
    "a <- 7\n",
    "\n",
    "changea0 <- function(){\n",
    "    b <- 20\n",
    "    a <- a + b\n",
    "}\n",
    "\n",
    "changea0()\n",
    "a\n",
    "b"
   ]
  },
  {
   "cell_type": "markdown",
   "metadata": {},
   "source": [
    "Within a function, you can access global variables. Also unsurprising. But R does a nice thing, here, where it doesn't just let you go changing global variables without _really_ intending to.\n",
    "\n",
    "It creates a new copy of the variable, within the environment of the function. It's separate from the global variable. Changes to it don't affect the global variable."
   ]
  },
  {
   "cell_type": "code",
   "execution_count": null,
   "metadata": {},
   "outputs": [],
   "source": [
    "a <- 7 #in global env\n",
    "\n",
    "# use a in a function\n",
    "changea1 <- function(){\n",
    "  a <- a + 1 # now we are in function's environment\n",
    "  print(a)\n",
    "}\n",
    "changea1()\n",
    "a"
   ]
  },
  {
   "cell_type": "code",
   "execution_count": null,
   "metadata": {
    "scrolled": true
   },
   "outputs": [],
   "source": [
    "a <- 7 #in global env\n",
    "\n",
    "# ok, what if we make a a parameter?\n",
    "# (don't do this, why would you do this?)\n",
    "changea2 <- function(a = 9){\n",
    "  a <- a + 1 # can still get that good global value!\n",
    "  print(a)   # can change it in function scope\n",
    "}\n",
    "changea2(a)\n",
    "a # but it remains the same, globally"
   ]
  },
  {
   "cell_type": "markdown",
   "metadata": {},
   "source": [
    "### Updating global variables inside functions\n",
    "\n",
    "Occasionally, you might need to update a global variable inside a function. It's a thing, I _guess._ (I claim it's not a thing you will want to do often, although the book's example with \"deal a card from the deck and then pull that card out of the deck\" is a compelling exception.) "
   ]
  },
  {
   "cell_type": "code",
   "execution_count": null,
   "metadata": {},
   "outputs": [],
   "source": [
    "# updating a value\n",
    "# how do we think this works?\n",
    "\n",
    "globalVar <- 17\n",
    "\n",
    "updateGV <- function(numForUpdate){\n",
    "  globalVar <- globalVar + numForUpdate\n",
    "  globalVar\n",
    "}\n",
    "\n",
    "updateGV(3)\n",
    "globalVar"
   ]
  },
  {
   "cell_type": "markdown",
   "metadata": {},
   "source": [
    "Yeah, no.\n",
    "\n",
    "For this we need the, I kid you not, **superassignment operator** `<<-`"
   ]
  },
  {
   "cell_type": "code",
   "execution_count": null,
   "metadata": {},
   "outputs": [],
   "source": [
    "globalVar <- 17\n",
    "\n",
    "updateGV <- function(numForUpdate){\n",
    "  globalVar <<- globalVar + numForUpdate\n",
    "  globalVar\n",
    "}\n",
    "updateGV(3)\n",
    "\n",
    "globalVar"
   ]
  },
  {
   "cell_type": "markdown",
   "metadata": {},
   "source": [
    "Alternately, you can use the `assign()` function."
   ]
  },
  {
   "cell_type": "code",
   "execution_count": null,
   "metadata": {},
   "outputs": [],
   "source": [
    "globalVar <- 17\n",
    "\n",
    "updateGV <- function(numForUpdate){\n",
    "  assign(\"globalVar\", globalVar + numForUpdate, envir = parent.env(environment()))\n",
    "  globalVar\n",
    "}\n",
    "\n",
    "updateGV(3) # we can try this with other numbers if you want\n",
    "\n",
    "globalVar"
   ]
  },
  {
   "cell_type": "markdown",
   "metadata": {},
   "source": [
    "Questions? Things you want to try?"
   ]
  },
  {
   "cell_type": "markdown",
   "metadata": {},
   "source": [
    "# NAs in R\n",
    "\n",
    "As data analysts, we often have to deal with missing values in our data. R was built with this kind of thing in mind and represents missing values with the symbol `NA`. You can't do math or logic with NAs."
   ]
  },
  {
   "cell_type": "code",
   "execution_count": null,
   "metadata": {
    "scrolled": true
   },
   "outputs": [],
   "source": [
    "5 + NA #it doesn't return 5\n",
    "\n",
    "NA == \"Dog\" #it does return FALSE"
   ]
  },
  {
   "cell_type": "code",
   "execution_count": null,
   "metadata": {},
   "outputs": [],
   "source": [
    "# OK, and?\n",
    "\n",
    "NA == NA"
   ]
  },
  {
   "cell_type": "code",
   "execution_count": null,
   "metadata": {},
   "outputs": [],
   "source": [
    "vecWNA <- c(NA,1:10)\n",
    "\n",
    "vecWNA\n",
    "\n",
    "mean(vecWNA) #will return NA!"
   ]
  },
  {
   "cell_type": "markdown",
   "metadata": {},
   "source": [
    "## na.rm = TRUE\n",
    "\n",
    "All is not lost! We can tell R, \"yes, this data has some gaps, but we want to know what you can tell us using only the valid parts of the data.\" "
   ]
  },
  {
   "cell_type": "code",
   "execution_count": null,
   "metadata": {},
   "outputs": [],
   "source": [
    "# throw out NAs\n",
    "mean(vecWNA,na.rm = TRUE)"
   ]
  },
  {
   "cell_type": "markdown",
   "metadata": {},
   "source": [
    "Sometimes it's better to zero out our NAs. (Or to put some other value in, such as the mean.)\n",
    "\n",
    "## is.na()"
   ]
  },
  {
   "cell_type": "code",
   "execution_count": null,
   "metadata": {},
   "outputs": [],
   "source": [
    "# can do with a for loop!\n",
    "vecWNA <- c(NA,1:10)\n",
    "vecWNA\n",
    "\n",
    "for(i in 1:length(vecWNA)){\n",
    "  if(is.na(vecWNA[i])){\n",
    "    vecWNA[i] <-0\n",
    "  }\n",
    "}\n",
    "\n",
    "# why didn't we do this?\n",
    "# for(i in vecWNA){\n",
    "#   if(is.na(i)){\n",
    "#     i <- 0\n",
    "#   }\n",
    "# }\n",
    "\n",
    "vecWNA"
   ]
  },
  {
   "cell_type": "code",
   "execution_count": null,
   "metadata": {},
   "outputs": [],
   "source": [
    "# could also do with logical subsetting!\n",
    "\n",
    "vecWNA <- c(NA,1:10)\n",
    "\n",
    "vecWNA\n",
    "\n",
    "vecWNA[is.na(vecWNA)] <- 0\n",
    "\n",
    "vecWNA"
   ]
  },
  {
   "cell_type": "code",
   "execution_count": null,
   "metadata": {},
   "outputs": [],
   "source": [
    "# how do we feel about this?\n",
    "\n",
    "vecWNA <- c(NA,1:10)\n",
    "\n",
    "vecWNA\n",
    "\n",
    "vecWNA[vecWNA == NA] <- 0\n",
    "\n",
    "vecWNA"
   ]
  },
  {
   "cell_type": "code",
   "execution_count": null,
   "metadata": {},
   "outputs": [],
   "source": []
  }
 ],
 "metadata": {
  "kernelspec": {
   "display_name": "R",
   "language": "R",
   "name": "ir"
  },
  "language_info": {
   "codemirror_mode": "r",
   "file_extension": ".r",
   "mimetype": "text/x-r-source",
   "name": "R",
   "pygments_lexer": "r",
   "version": "3.6.1"
  }
 },
 "nbformat": 4,
 "nbformat_minor": 4
}
