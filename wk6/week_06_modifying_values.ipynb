{
 "cells": [
  {
   "cell_type": "markdown",
   "metadata": {},
   "source": [
    "# Modifying values\n",
    "\n",
    "## Retrieving and modifying values by position (index)\n",
    "\n",
    "### in vectors\n",
    "\n",
    "First, a little review."
   ]
  },
  {
   "cell_type": "code",
   "execution_count": null,
   "metadata": {},
   "outputs": [],
   "source": [
    "# let's put values into a vector\n",
    "my_vec <- c(1, 2, 3, 4, 5)"
   ]
  },
  {
   "cell_type": "code",
   "execution_count": null,
   "metadata": {},
   "outputs": [],
   "source": [
    "# retrieve a value by index\n",
    "my_vec[1]"
   ]
  },
  {
   "cell_type": "code",
   "execution_count": null,
   "metadata": {},
   "outputs": [],
   "source": [
    "# retrieve multiple values by index\n",
    "my_vec[2:5]\n",
    "my_vec[-1]"
   ]
  },
  {
   "cell_type": "markdown",
   "metadata": {},
   "source": [
    "It is, maybe, unsurprising that we can overwrite values in a vector, using their indices:"
   ]
  },
  {
   "cell_type": "code",
   "execution_count": null,
   "metadata": {},
   "outputs": [],
   "source": [
    "my_vec # printing for reference\n",
    "\n",
    "my_vec[2] <- 3\n",
    "my_vec"
   ]
  },
  {
   "cell_type": "code",
   "execution_count": null,
   "metadata": {},
   "outputs": [],
   "source": [
    "my_vec # printing for reference\n",
    "\n",
    "my_vec[c(3, 4, 5)] <- c(5, 7, 9)\n",
    "my_vec"
   ]
  },
  {
   "cell_type": "code",
   "execution_count": null,
   "metadata": {},
   "outputs": [],
   "source": [
    "my_vec # printing for reference\n",
    "\n",
    "my_vec[1:5] <- c(5, 4, 3, 2, 1)\n",
    "my_vec"
   ]
  },
  {
   "cell_type": "markdown",
   "metadata": {},
   "source": [
    "This is all very reasonable. We're happy with this. It works like you'd expect, probably. \n",
    "\n",
    "Thing is, you can also just ... add stuff to a vector, without using any special syntax or anything. (This is _wildly_ uncomfortable for people coming from most other programming languages. I'm still mad.)"
   ]
  },
  {
   "cell_type": "code",
   "execution_count": null,
   "metadata": {},
   "outputs": [],
   "source": [
    "#print it for reference\n",
    "my_vec\n",
    "\n",
    "#print its length\n",
    "length(my_vec)\n",
    "\n",
    "# this works in R, but not most other places\n",
    "my_vec[6] <- 42\n",
    "my_vec"
   ]
  },
  {
   "cell_type": "markdown",
   "metadata": {},
   "source": [
    "Real talk? If you can bring yourself to do that, without ruining how you approach any other language, I say go for it! I am a more cautious programmer than that, spending more of my time in other languages that don't allow this type of chicanery, so here's how I accomplish the same thing:"
   ]
  },
  {
   "cell_type": "code",
   "execution_count": null,
   "metadata": {},
   "outputs": [],
   "source": [
    "my_vec\n",
    "my_vec <- c(my_vec, 43)\n",
    "my_vec"
   ]
  },
  {
   "cell_type": "code",
   "execution_count": null,
   "metadata": {},
   "outputs": [],
   "source": [
    "# don't miscount\n",
    "my_vec\n",
    "\n",
    "my_vec[13] <- 13\n",
    "my_vec"
   ]
  },
  {
   "cell_type": "markdown",
   "metadata": {},
   "source": [
    "#### (and erasing)"
   ]
  },
  {
   "cell_type": "code",
   "execution_count": null,
   "metadata": {},
   "outputs": [],
   "source": [
    "# REMOVING values from a vector\n",
    "my_vec  <- my_vec[-(7:12)]\n",
    "#same\n",
    "#my_vec <- my_vec[c(1:6,13)]\n",
    "my_vec"
   ]
  },
  {
   "cell_type": "markdown",
   "metadata": {},
   "source": [
    "It's also worth pointing out that R repeats values where needed, even when we're just dealing with a subset of a vector."
   ]
  },
  {
   "cell_type": "code",
   "execution_count": null,
   "metadata": {
    "scrolled": true
   },
   "outputs": [],
   "source": [
    "# putting two values into 4 spots, with repetition!\n",
    "my_vec[1:4] <- c(1, 42)\n",
    "my_vec\n",
    "\n",
    "# adding 1 to each of 3 different values\n",
    "my_vec[c(1, 3, 5)] <- my_vec[c(1, 3, 5)] + 41\n",
    "my_vec"
   ]
  },
  {
   "cell_type": "markdown",
   "metadata": {},
   "source": [
    "### Retrieving and modifying values by index/position in a dataframe\n",
    "\n",
    "This is, admittedly, not much of a thing. You're not usually going to work on columns, at least, by position, because usually columns have names, which is very convenient. Rows are somewhat less often named, so those you deal with positionally, maybe slightly(?) more often. Still, let's look at it, yeah?"
   ]
  },
  {
   "cell_type": "code",
   "execution_count": null,
   "metadata": {},
   "outputs": [],
   "source": [
    "# first, let's get our dataframe\n",
    "clp_wifi <- read.csv(\"clp_wifi.csv\", stringsAsFactors=FALSE)\n",
    "head(clp_wifi)"
   ]
  },
  {
   "cell_type": "code",
   "execution_count": null,
   "metadata": {},
   "outputs": [],
   "source": [
    "# get the first row\n",
    "clp_wifi[1, ]"
   ]
  },
  {
   "cell_type": "code",
   "execution_count": null,
   "metadata": {},
   "outputs": [],
   "source": [
    "# get the first column\n",
    "head(clp_wifi[ , 1])"
   ]
  },
  {
   "cell_type": "code",
   "execution_count": null,
   "metadata": {},
   "outputs": [],
   "source": [
    "clp_wifi_copy <- clp_wifi\n",
    "\n",
    "# we can replace the IDs with the row numbers if we want\n",
    "clp_wifi_copy[ , 1] <- 1:length(clp_wifi[ ,1])\n",
    "\n",
    "head(clp_wifi_copy)\n",
    "tail(clp_wifi_copy)"
   ]
  },
  {
   "cell_type": "code",
   "execution_count": null,
   "metadata": {},
   "outputs": [],
   "source": [
    "# say we found an error in the wifi minutes for Allegheny Library, in March 2016\n",
    "# March 2016 is row 3; wifiMinutes is column 6\n",
    "clp_wifi[3, 6] # shows initial value\n",
    "\n",
    "clp_wifi[3, 6] <- 424242\n",
    "head(clp_wifi)"
   ]
  },
  {
   "cell_type": "markdown",
   "metadata": {},
   "source": [
    "### Using column names for retrieval and value modification\n",
    "\n",
    "Named columns make it a lot easier to do things with our data, honestly."
   ]
  },
  {
   "cell_type": "code",
   "execution_count": null,
   "metadata": {},
   "outputs": [],
   "source": [
    "# get a column by name, two different ways\n",
    "vector_of_names <- clp_wifi$Name\n",
    "vector_of_names2 <- clp_wifi[ , \"Name\"]\n",
    "\n",
    "head(vector_of_names)\n",
    "head(vector_of_names2)"
   ]
  },
  {
   "cell_type": "code",
   "execution_count": null,
   "metadata": {},
   "outputs": [],
   "source": [
    "# just making a copy to mess with\n",
    "clp_wifi_copy <- clp_wifi\n",
    "\n",
    "# getting a vector the same length as our column is high\n",
    "column_length_vector <- 1:length(clp_wifi$CLPID)\n",
    "\n",
    "# and then we can just place it in there\n",
    "clp_wifi_copy$CLPID <- column_length_vector\n",
    "\n",
    "# could have done this with a for loop\n",
    "# for (i in 1:length(clp_wifi$CLPID)) {\n",
    "#     clp_wifi_copy$CLPID[i] = i\n",
    "# }\n",
    "\n",
    "head(clp_wifi_copy)\n",
    "tail(clp_wifi_copy)"
   ]
  },
  {
   "cell_type": "markdown",
   "metadata": {},
   "source": [
    "Sometimes, you'll mix name and number to get to things you want to change, and that's fine"
   ]
  },
  {
   "cell_type": "code",
   "execution_count": null,
   "metadata": {},
   "outputs": [],
   "source": [
    "# modify some rows in a named column\n",
    "clp_wifi_copy$Name[c(1, 3, 5)] <- \"VERY GOOD LIBRARY\"\n",
    "head(clp_wifi_copy)"
   ]
  },
  {
   "cell_type": "markdown",
   "metadata": {},
   "source": [
    "#### (and erasing a column)"
   ]
  },
  {
   "cell_type": "code",
   "execution_count": null,
   "metadata": {},
   "outputs": [],
   "source": [
    "# want to erase a column? EASY!\n",
    "clp_wifi_copy$CLPID <- NULL\n",
    "head(clp_wifi_copy)"
   ]
  },
  {
   "cell_type": "markdown",
   "metadata": {},
   "source": [
    "#### (and adding a column)\n",
    "\n",
    "(Yes, I'm mad about this, too, but it seems a little less likely to ruin a programmer's day than the thing where you can just keep writing past the end of a vector.)"
   ]
  },
  {
   "cell_type": "code",
   "execution_count": null,
   "metadata": {},
   "outputs": [],
   "source": [
    "# let's make a copy of the original clp_wifi CLPID column\n",
    "our_col <- clp_wifi$CLPID\n",
    "\n",
    "# now we can just add it to the frame we removed it from\n",
    "# (I changed its name just to keep this all straight)\n",
    "clp_wifi_copy$CLPID2 <- our_col\n",
    "head(clp_wifi_copy)"
   ]
  },
  {
   "cell_type": "markdown",
   "metadata": {},
   "source": [
    "## Logic!\n",
    "\n",
    "Our comparison operators:\n",
    "* `<`\n",
    "* `<=`\n",
    "* `>`\n",
    "* `>=`\n",
    "* `==`\n",
    "* `!=`\n",
    "* `%in%`\n",
    "\n",
    "All but the last one do exactly what you'd expect. Mostly. One note: **types get coerced for comparison,** so if you check to see if `1 == \"1\"` you might get a bit of a surprise. (Gross. I know.)"
   ]
  },
  {
   "cell_type": "code",
   "execution_count": null,
   "metadata": {},
   "outputs": [],
   "source": [
    "one <- 1\n",
    "also_one <- \"1\"\n",
    "\n",
    "one == also_one"
   ]
  },
  {
   "cell_type": "markdown",
   "metadata": {},
   "source": [
    "Anyway, as we were saying. Not a ton of surprises in the first set of logical comparison operators:"
   ]
  },
  {
   "cell_type": "code",
   "execution_count": null,
   "metadata": {},
   "outputs": [],
   "source": [
    "sma <- 1 #create a small number\n",
    "med <- 3 #create a medium number\n",
    "big <- 5 #create a big number\n",
    "\n",
    "sma < med #is sma smaller than med?\n",
    "\n",
    "sma < big #is sma smaller than big?"
   ]
  },
  {
   "cell_type": "code",
   "execution_count": null,
   "metadata": {},
   "outputs": [],
   "source": [
    "# just copying these down so we don't have to remember\n",
    "sma <- 1 \n",
    "med <- 3 \n",
    "big <- 5 \n",
    "\n",
    "big < med #is big smaller than med? - of course not\n",
    "\n",
    "big < sma #is big smaller than sma? "
   ]
  },
  {
   "cell_type": "code",
   "execution_count": null,
   "metadata": {},
   "outputs": [],
   "source": [
    "# just copying these down so we don't have to remember\n",
    "sma <- 1 \n",
    "med <- 3 \n",
    "big <- 5 \n",
    "\n",
    "big >= med #is big greater than or equal to medium?\n",
    "\n",
    "big >= 5 #is big greater than or equal to 5?"
   ]
  },
  {
   "cell_type": "code",
   "execution_count": null,
   "metadata": {},
   "outputs": [],
   "source": [
    "# just copying these down so we don't have to remember\n",
    "sma <- 1 \n",
    "med <- 3 \n",
    "big <- 5 \n",
    "\n",
    "med == 3 #is med equal to 3?\n",
    "\n",
    "med != 3 #is medium not equal to 3"
   ]
  },
  {
   "cell_type": "markdown",
   "metadata": {},
   "source": [
    "_Possibly_ unsurprising (you may have already guessed this) fact about the logical operators above (everything except `%in%`): they work element-wise, so if you do `a_vector == \"value\"` you'll get a vector of TRUE/FALSE values of the same length as `a_vector`:"
   ]
  },
  {
   "cell_type": "code",
   "execution_count": null,
   "metadata": {},
   "outputs": [],
   "source": [
    "my_vec <- 1:6\n",
    "my_vec\n",
    "my_vec == 3\n",
    "my_vec < 5\n",
    "my_vec >= 4"
   ]
  },
  {
   "cell_type": "markdown",
   "metadata": {},
   "source": [
    "This is super useful, and we will come back to it in a moment."
   ]
  },
  {
   "cell_type": "code",
   "execution_count": null,
   "metadata": {},
   "outputs": [],
   "source": [
    "# ok and also\n",
    "my_vec == 1:6\n",
    "\n",
    "# plus\n",
    "my_vec == 1:3\n",
    "my_vec == 4:6"
   ]
  },
  {
   "cell_type": "markdown",
   "metadata": {},
   "source": [
    "Now let's talk about `%in%`.\n",
    "\n",
    "It works a bit like Python's `in`, if that helps you. Both of these patterns are valid:\n",
    "\n",
    "```R\n",
    "one_thing %in% vector_of_many_things   # TRUE if the thing is anywhere in the vector\n",
    "multiple_things %in% vector_of_many_things  # returns length(multiple_things) vector of TRUEs & FALSEs\n",
    "```"
   ]
  },
  {
   "cell_type": "code",
   "execution_count": null,
   "metadata": {},
   "outputs": [],
   "source": [
    "\"CLP01\" %in% clp_wifi$CLPID\n",
    "\"SQUIRREL HILL LIBRARY\" %in% clp_wifi$Name\n",
    "\"DATA, WOO\" %in% clp_wifi$Name\n",
    "\n",
    "#OK but...\n",
    "\"SQUIRREL\" %in% clp_wifi$Name"
   ]
  },
  {
   "cell_type": "code",
   "execution_count": null,
   "metadata": {},
   "outputs": [],
   "source": [
    "c(1, 11, 15) %in% clp_wifi$Month"
   ]
  },
  {
   "cell_type": "markdown",
   "metadata": {},
   "source": [
    "### Boolean operators\n",
    "\n",
    "We can combine logical statements. It's fun!\n",
    "\n",
    "* `&` - and\n",
    "* `|` - or\n",
    "* `xor` - exclusive or - one or the other, not both\n",
    "* `!` - not \n",
    "* `any` - one or more of\n",
    "* `all` - every single one of\n",
    "\n",
    "If you've never seen `xor` before, it's the \"or\" that parents of small children mean when they ask, \"would you like a piece of chocolate or a cookie?\" "
   ]
  },
  {
   "cell_type": "code",
   "execution_count": null,
   "metadata": {},
   "outputs": [],
   "source": [
    "# unsurprising?\n",
    "\n",
    "# and\n",
    "TRUE & TRUE  # true\n",
    "TRUE & FALSE # false\n",
    "FALSE & FALSE # false\n",
    "\n",
    "# or\n",
    "TRUE | TRUE # true\n",
    "TRUE | FALSE # true\n",
    "FALSE | FALSE # false\n",
    "\n",
    "# not\n",
    "!TRUE  #false\n",
    "!FALSE #true"
   ]
  },
  {
   "cell_type": "code",
   "execution_count": null,
   "metadata": {},
   "outputs": [],
   "source": [
    "# xor\n",
    "xor(TRUE, FALSE) # true\n",
    "xor(FALSE, FALSE) #false\n",
    "\n",
    "xor(TRUE, TRUE) #FALSE! OMG!"
   ]
  },
  {
   "cell_type": "code",
   "execution_count": null,
   "metadata": {},
   "outputs": [],
   "source": [
    "# any vs. all\n",
    "any(FALSE, FALSE, FALSE, TRUE) # true\n",
    "any(FALSE, FALSE, FALSE, FALSE) #false\n",
    "\n",
    "all(TRUE, TRUE, TRUE, FALSE) #false\n",
    "all(TRUE, TRUE, TRUE, TRUE) #true\n",
    "\n",
    "# \"TRUE\" and \"FALSE\" no longer look like real words, sorry, I know"
   ]
  },
  {
   "cell_type": "code",
   "execution_count": null,
   "metadata": {},
   "outputs": [],
   "source": [
    "# let's use some numerical examples, yes?\n",
    "# just copying these down so we don't have to remember\n",
    "sma <- 1 \n",
    "med <- 3 \n",
    "big <- 5 \n",
    "\n",
    "!(med == 3)\n",
    "!!med == 3\n",
    "\n",
    "big > sma & med > sma\n",
    "big == 5 & med == 4\n",
    "big == 5 | med == 4\n",
    "\n",
    "xor(big == 5, med == 4)"
   ]
  },
  {
   "cell_type": "code",
   "execution_count": null,
   "metadata": {},
   "outputs": [],
   "source": [
    "# how we actually use any/all:\n",
    "days_of_the_week <- c(\"Monday\", \"Tuesday\", \"Wednesday\", \"Thursday\", \"Friday\", \"Saturday\", \"Sunday\")\n",
    "\n",
    "some_days <- c(\"Monday\", \"Wednesday\", \"Thursday\")\n",
    "\n",
    "some_days %in% days_of_the_week\n",
    "\n",
    "all(some_days %in% days_of_the_week)"
   ]
  },
  {
   "cell_type": "code",
   "execution_count": null,
   "metadata": {},
   "outputs": [],
   "source": [
    "# we also have isTRUE()\n",
    "\n",
    "isTRUE(med == 3)\n",
    "isTRUE(TRUE)\n",
    "isTRUE(FALSE)\n",
    "isTRUE(3)"
   ]
  },
  {
   "cell_type": "markdown",
   "metadata": {},
   "source": [
    "## Logical subsetting\n",
    "\n",
    "Perhaps you remember, from last week, when I said \"we're going to skip over this until it gets useful,\" about that whole \"you can index a vector with logical values\" issue?\n",
    "\n",
    "It's useful now.\n",
    "\n",
    "You can pull items out of a vector (or, therefore, the column of a dataframe) with a vector of the same length, full of `TRUE`s and `FALSE`s:"
   ]
  },
  {
   "cell_type": "code",
   "execution_count": null,
   "metadata": {},
   "outputs": [],
   "source": [
    "tf_vec <- c(TRUE, FALSE, TRUE, FALSE, TRUE, FALSE)\n",
    "num_vec <- 1:6\n",
    "\n",
    "num_vec[tf_vec]"
   ]
  },
  {
   "cell_type": "markdown",
   "metadata": {},
   "source": [
    "You have, in fact, already done this, even if you weren't really thinking of it that way."
   ]
  },
  {
   "cell_type": "code",
   "execution_count": null,
   "metadata": {},
   "outputs": [],
   "source": [
    "# let's get all of the January 2017 data for the library system\n",
    "\n",
    "# a t/f vector - only true if month == 1 and year == 2017\n",
    "jan_2017 <- clp_wifi$Year == 2017 & clp_wifi$Month == 1\n",
    "\n",
    "# all the data\n",
    "clp_wifi[jan_2017, ]\n",
    "\n",
    "# or just the minutes of wifi\n",
    "clp_wifi$WifiMinutes[jan_2017]"
   ]
  },
  {
   "cell_type": "code",
   "execution_count": null,
   "metadata": {},
   "outputs": [],
   "source": [
    "# let's sum up the minutes of wifi used each year at CLP\n",
    "years <- unique(clp_wifi$Year) # 2016, 2017, 2018\n",
    "\n",
    "# empty vector for now\n",
    "wifi_by_year <- vector()\n",
    "\n",
    "# length(years) is just 3, in this case\n",
    "for (i in 1:length(years)) {\n",
    "    # make a vector of trues and falses corresponding to each year\n",
    "    tf_year_i <- clp_wifi$Year == years[i]\n",
    "    # pass that true/false vector in to pull out the rows we want from the minutes column\n",
    "    wifi_i <- sum(clp_wifi$WifiMinutes[tf_year_i])\n",
    "    wifi_by_year <- c(wifi_by_year, wifi_i)\n",
    "}\n",
    "# put the year name with the corresponding sum\n",
    "names(wifi_by_year) <- years\n",
    "wifi_by_year"
   ]
  },
  {
   "cell_type": "markdown",
   "metadata": {},
   "source": [
    "OK, honestly, I'm feeling uninspired at this late hour, and I'd really rather answer the questions you have at this point (even if they're \"ok, now show us some of this with the avocado data set\") than contrive more examples ahead of time. Let's chat."
   ]
  },
  {
   "cell_type": "code",
   "execution_count": null,
   "metadata": {},
   "outputs": [],
   "source": []
  },
  {
   "cell_type": "code",
   "execution_count": null,
   "metadata": {},
   "outputs": [],
   "source": []
  }
 ],
 "metadata": {
  "kernelspec": {
   "display_name": "R",
   "language": "R",
   "name": "ir"
  },
  "language_info": {
   "codemirror_mode": "r",
   "file_extension": ".r",
   "mimetype": "text/x-r-source",
   "name": "R",
   "pygments_lexer": "r",
   "version": "3.6.1"
  }
 },
 "nbformat": 4,
 "nbformat_minor": 4
}
